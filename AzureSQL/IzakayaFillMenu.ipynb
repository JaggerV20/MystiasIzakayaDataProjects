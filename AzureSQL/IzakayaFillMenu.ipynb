{
    "metadata": {
        "kernelspec": {
            "name": "SQL",
            "display_name": "SQL",
            "language": "sql"
        },
        "language_info": {
            "name": "sql",
            "version": ""
        }
    },
    "nbformat_minor": 2,
    "nbformat": 4,
    "cells": [
        {
            "cell_type": "markdown",
            "source": [
                "Test  Insert and Remove"
            ],
            "metadata": {
                "azdata_cell_guid": "4b258e66-8485-42ff-8ca8-8c1f88e31447"
            },
            "attachments": {}
        },
        {
            "cell_type": "code",
            "source": [
                "INSERT INTO Meals (MealID, MealName, Cost, Station, CookTime, Lv)\r\n",
                "VALUES (1, 'Seafood Miso Soup', 8, 'Boiling Pot', 3.6, 1);"
            ],
            "metadata": {
                "azdata_cell_guid": "a7174cd8-4953-46c8-b31e-f7578495ad0c",
                "language": "sql"
            },
            "outputs": [
                {
                    "output_type": "display_data",
                    "data": {
                        "text/html": "(1 row affected)"
                    },
                    "metadata": {}
                },
                {
                    "output_type": "display_data",
                    "data": {
                        "text/html": "Total execution time: 00:00:00.043"
                    },
                    "metadata": {}
                }
            ],
            "execution_count": 1
        },
        {
            "cell_type": "code",
            "source": [
                "DELETE FROM Meals \r\n",
                "WHERE MealID = 1;"
            ],
            "metadata": {
                "language": "sql",
                "azdata_cell_guid": "4997a696-0e00-4d94-a04b-3d8311a5e780"
            },
            "outputs": [
                {
                    "output_type": "display_data",
                    "data": {
                        "text/html": "(1 row affected)"
                    },
                    "metadata": {}
                },
                {
                    "output_type": "display_data",
                    "data": {
                        "text/html": "Total execution time: 00:00:00.035"
                    },
                    "metadata": {}
                }
            ],
            "execution_count": 2
        },
        {
            "cell_type": "markdown",
            "source": [
                "Adding elements now that I know the syntax is correct"
            ],
            "metadata": {
                "language": "sql",
                "azdata_cell_guid": "9401bf4f-6506-4e15-93cb-8b02698d8b34"
            },
            "attachments": {}
        },
        {
            "cell_type": "code",
            "source": [
                "INSERT INTO Meals (MealID, MealName, Cost, Station, CookTime, Lv)\r\n",
                "VALUES (1, 'Seafood Miso Soup', 8, 'Boiling Pot', 3.6, 1);"
            ],
            "metadata": {
                "language": "sql",
                "azdata_cell_guid": "d0af3235-a0a8-4832-8a7a-998c8400f497"
            },
            "outputs": [
                {
                    "output_type": "display_data",
                    "data": {
                        "text/html": "(1 row affected)"
                    },
                    "metadata": {}
                },
                {
                    "output_type": "display_data",
                    "data": {
                        "text/html": "Total execution time: 00:00:00.033"
                    },
                    "metadata": {}
                }
            ],
            "execution_count": 3
        },
        {
            "cell_type": "code",
            "source": [
                "INSERT INTO Meals (MealID, MealName, Cost, Station, CookTime, Lv)\r\n",
                "VALUES (2, 'Grilled Lamprey', 22, 'Grill', 4.2, 2);"
            ],
            "metadata": {
                "language": "sql",
                "azdata_cell_guid": "c271992c-9f6c-4852-9321-77700bd27bac"
            },
            "outputs": [
                {
                    "output_type": "display_data",
                    "data": {
                        "text/html": "(1 row affected)"
                    },
                    "metadata": {}
                },
                {
                    "output_type": "display_data",
                    "data": {
                        "text/html": "Total execution time: 00:00:00.114"
                    },
                    "metadata": {}
                }
            ],
            "execution_count": 4
        },
        {
            "cell_type": "code",
            "source": [
                "INSERT INTO Meals (MealID, MealName, Cost, Station, CookTime, Lv)\r\n",
                "VALUES (3, 'Fresh Tofu', 21, 'Cutting Board', 3, 2);"
            ],
            "metadata": {
                "language": "sql",
                "azdata_cell_guid": "74a61c5c-9a1d-4fb3-98f0-c11077b9cc89"
            },
            "outputs": [
                {
                    "output_type": "display_data",
                    "data": {
                        "text/html": "(1 row affected)"
                    },
                    "metadata": {}
                },
                {
                    "output_type": "display_data",
                    "data": {
                        "text/html": "Total execution time: 00:00:00.036"
                    },
                    "metadata": {}
                }
            ],
            "execution_count": 5
        },
        {
            "cell_type": "code",
            "source": [
                "INSERT INTO Meals (MealID, MealName, Cost, Station, CookTime, Lv)\r\n",
                "VALUES (4, 'Rice Ball', 6, 'Cutting Board', 3, 1);"
            ],
            "metadata": {
                "language": "sql",
                "azdata_cell_guid": "d240c2d0-5c4d-4183-b318-c0dcd887cda5"
            },
            "outputs": [
                {
                    "output_type": "display_data",
                    "data": {
                        "text/html": "(1 row affected)"
                    },
                    "metadata": {}
                },
                {
                    "output_type": "display_data",
                    "data": {
                        "text/html": "Total execution time: 00:00:00.033"
                    },
                    "metadata": {}
                }
            ],
            "execution_count": 6
        },
        {
            "cell_type": "code",
            "source": [
                "INSERT INTO Meals (MealID, MealName, Cost, Station, CookTime, Lv)\r\n",
                "VALUES (5, 'Boiled Tofu', 22, 'Boiling Pot', 4.2, 1);"
            ],
            "metadata": {
                "language": "sql",
                "azdata_cell_guid": "49ae8c83-2a00-4815-b32c-89aa3eeb9161"
            },
            "outputs": [
                {
                    "output_type": "display_data",
                    "data": {
                        "text/html": "(1 row affected)"
                    },
                    "metadata": {}
                },
                {
                    "output_type": "display_data",
                    "data": {
                        "text/html": "Total execution time: 00:00:00.035"
                    },
                    "metadata": {}
                }
            ],
            "execution_count": 7
        },
        {
            "cell_type": "code",
            "source": [
                "INSERT INTO Meals (MealID, MealName, Cost, Station, CookTime, Lv)\r\n",
                "VALUES (6, 'Secret Dried Fish Crisps', 30, 'Cutting Board', 4.8, 2);"
            ],
            "metadata": {
                "language": "sql",
                "azdata_cell_guid": "259fa54f-d139-46ac-ac1e-5df52caf4140"
            },
            "outputs": [
                {
                    "output_type": "display_data",
                    "data": {
                        "text/html": "(1 row affected)"
                    },
                    "metadata": {}
                },
                {
                    "output_type": "display_data",
                    "data": {
                        "text/html": "Total execution time: 00:00:00.033"
                    },
                    "metadata": {}
                }
            ],
            "execution_count": 8
        },
        {
            "cell_type": "code",
            "source": [
                "INSERT INTO Meals (MealID, MealName, Cost, Station, CookTime, Lv)\r\n",
                "VALUES (7, 'Dew Runny Eggs', 18, 'Steamer', 1.8, 2);"
            ],
            "metadata": {
                "language": "sql",
                "azdata_cell_guid": "e82f5427-3d14-472b-a7ad-94de94fa5313"
            },
            "outputs": [
                {
                    "output_type": "display_data",
                    "data": {
                        "text/html": "(1 row affected)"
                    },
                    "metadata": {}
                },
                {
                    "output_type": "display_data",
                    "data": {
                        "text/html": "Total execution time: 00:00:00.033"
                    },
                    "metadata": {}
                }
            ],
            "execution_count": 9
        },
        {
            "cell_type": "code",
            "source": [
                "INSERT INTO Meals (MealID, MealName, Cost, Station, CookTime, Lv)\r\n",
                "VALUES (8, 'Roasted Mushroom', 18, 'Grill', 3.6, 1);"
            ],
            "metadata": {
                "language": "sql",
                "azdata_cell_guid": "1c14ee49-464a-4d34-b605-a1f443df4484"
            },
            "outputs": [
                {
                    "output_type": "display_data",
                    "data": {
                        "text/html": "(1 row affected)"
                    },
                    "metadata": {}
                },
                {
                    "output_type": "display_data",
                    "data": {
                        "text/html": "Total execution time: 00:00:00.033"
                    },
                    "metadata": {}
                }
            ],
            "execution_count": 10
        },
        {
            "cell_type": "code",
            "source": [
                "INSERT INTO Meals (MealID, MealName, Cost, Station, CookTime, Lv)\r\n",
                "VALUES (9, 'Pork Bowl', 20, 'Boiling Pot', 4.2, 2);"
            ],
            "metadata": {
                "language": "sql",
                "azdata_cell_guid": "1a8cffeb-3980-40d2-bdf6-b4743c6ca257"
            },
            "outputs": [
                {
                    "output_type": "display_data",
                    "data": {
                        "text/html": "(1 row affected)"
                    },
                    "metadata": {}
                },
                {
                    "output_type": "display_data",
                    "data": {
                        "text/html": "Total execution time: 00:00:00.033"
                    },
                    "metadata": {}
                }
            ],
            "execution_count": 11
        },
        {
            "cell_type": "code",
            "source": [
                "INSERT INTO Meals (MealID, MealName, Cost, Station, CookTime, Lv)\r\n",
                "VALUES (10, 'Pork & Trout Kebab', 26, 'Grill', 4.2, 2);"
            ],
            "metadata": {
                "language": "sql",
                "azdata_cell_guid": "18bd94cf-39c4-408d-bdb3-5a915713b85d"
            },
            "outputs": [
                {
                    "output_type": "display_data",
                    "data": {
                        "text/html": "(1 row affected)"
                    },
                    "metadata": {}
                },
                {
                    "output_type": "display_data",
                    "data": {
                        "text/html": "Total execution time: 00:00:00.033"
                    },
                    "metadata": {}
                }
            ],
            "execution_count": 12
        },
        {
            "cell_type": "code",
            "source": [
                "INSERT INTO Meals (MealID, MealName, Cost, Station, CookTime, Lv)\r\n",
                "VALUES (11, 'Stinky Tofu', 24, 'Frying Pan', 3, 1);"
            ],
            "metadata": {
                "language": "sql",
                "azdata_cell_guid": "3b7106c3-2ccc-45c4-a65d-c336667b3978"
            },
            "outputs": [
                {
                    "output_type": "display_data",
                    "data": {
                        "text/html": "(1 row affected)"
                    },
                    "metadata": {}
                },
                {
                    "output_type": "display_data",
                    "data": {
                        "text/html": "Total execution time: 00:00:00.033"
                    },
                    "metadata": {}
                }
            ],
            "execution_count": 13
        },
        {
            "cell_type": "code",
            "source": [
                "INSERT INTO Meals (MealID, MealName, Cost, Station, CookTime, Lv)\r\n",
                "VALUES (12, 'Potato Croquettes', 22, 'Frying Pan', 3.6, 1);"
            ],
            "metadata": {
                "language": "sql",
                "azdata_cell_guid": "e350196b-20ca-4fcb-bb8d-e6dbebaca8c6"
            },
            "outputs": [
                {
                    "output_type": "display_data",
                    "data": {
                        "text/html": "(1 row affected)"
                    },
                    "metadata": {}
                },
                {
                    "output_type": "display_data",
                    "data": {
                        "text/html": "Total execution time: 00:00:00.034"
                    },
                    "metadata": {}
                }
            ],
            "execution_count": 14
        },
        {
            "cell_type": "code",
            "source": [
                "INSERT INTO Meals (MealID, MealName, Cost, Station, CookTime, Lv)\r\n",
                "VALUES (13, 'Frying Cicada Sloughs', 19, 'Frying Pan', 4.8, 1);"
            ],
            "metadata": {
                "language": "sql",
                "azdata_cell_guid": "9bf0cfc2-aeed-4294-98ae-ee172ac79591"
            },
            "outputs": [
                {
                    "output_type": "display_data",
                    "data": {
                        "text/html": "(1 row affected)"
                    },
                    "metadata": {}
                },
                {
                    "output_type": "display_data",
                    "data": {
                        "text/html": "Total execution time: 00:00:00.034"
                    },
                    "metadata": {}
                }
            ],
            "execution_count": 15
        },
        {
            "cell_type": "code",
            "source": [
                "INSERT INTO Meals (MealID, MealName, Cost, Station, CookTime, Lv)\r\n",
                "VALUES (14, 'Tonkotsu Ramen', 60, 'Boiling Pot', 4.8, 3);"
            ],
            "metadata": {
                "language": "sql",
                "azdata_cell_guid": "9dce1964-af25-44c9-9a5d-50187c009768"
            },
            "outputs": [
                {
                    "output_type": "display_data",
                    "data": {
                        "text/html": "(1 row affected)"
                    },
                    "metadata": {}
                },
                {
                    "output_type": "display_data",
                    "data": {
                        "text/html": "Total execution time: 00:00:00.034"
                    },
                    "metadata": {}
                }
            ],
            "execution_count": 16
        },
        {
            "cell_type": "code",
            "source": [
                "INSERT INTO Meals (MealID, MealName, Cost, Station, CookTime, Lv)\r\n",
                "VALUES (15, 'Power Soup', 34, 'Boiling Pot', 7.2, 3);"
            ],
            "metadata": {
                "language": "sql",
                "azdata_cell_guid": "498ad25a-5eb3-4fc6-b9c3-8d00aa9ce55b"
            },
            "outputs": [
                {
                    "output_type": "display_data",
                    "data": {
                        "text/html": "(1 row affected)"
                    },
                    "metadata": {}
                },
                {
                    "output_type": "display_data",
                    "data": {
                        "text/html": "Total execution time: 00:00:00.033"
                    },
                    "metadata": {}
                }
            ],
            "execution_count": 17
        },
        {
            "cell_type": "code",
            "source": [
                "INSERT INTO Meals (MealID, MealName, Cost, Station, CookTime, Lv)\r\n",
                "VALUES (16, 'Fried Lampreys', 27, 'Frying Pan', 4.2, 2);"
            ],
            "metadata": {
                "language": "sql",
                "azdata_cell_guid": "84085e45-f11f-4fe8-b998-940a0aa74b9c"
            },
            "outputs": [
                {
                    "output_type": "display_data",
                    "data": {
                        "text/html": "(1 row affected)"
                    },
                    "metadata": {}
                },
                {
                    "output_type": "display_data",
                    "data": {
                        "text/html": "Total execution time: 00:00:00.033"
                    },
                    "metadata": {}
                }
            ],
            "execution_count": 18
        },
        {
            "cell_type": "code",
            "source": [
                "INSERT INTO Meals (MealID, MealName, Cost, Station, CookTime, Lv)\r\n",
                "VALUES (17, 'Udumbara Cake', 78, 'Steamer', 4.2, 3);"
            ],
            "metadata": {
                "language": "sql",
                "azdata_cell_guid": "5e06391a-e13a-4356-af78-674b9d819441"
            },
            "outputs": [
                {
                    "output_type": "display_data",
                    "data": {
                        "text/html": "(1 row affected)"
                    },
                    "metadata": {}
                },
                {
                    "output_type": "display_data",
                    "data": {
                        "text/html": "Total execution time: 00:00:00.033"
                    },
                    "metadata": {}
                }
            ],
            "execution_count": 19
        },
        {
            "cell_type": "code",
            "source": [
                "INSERT INTO Meals (MealID, MealName, Cost, Station, CookTime, Lv)\r\n",
                "VALUES (18, 'Tofu Stew', 19, 'Boiling Pot', 3, 1);"
            ],
            "metadata": {
                "language": "sql",
                "azdata_cell_guid": "5e062181-f425-4fb1-9e94-10e7aa7b3b89"
            },
            "outputs": [
                {
                    "output_type": "display_data",
                    "data": {
                        "text/html": "(1 row affected)"
                    },
                    "metadata": {}
                },
                {
                    "output_type": "display_data",
                    "data": {
                        "text/html": "Total execution time: 00:00:00.034"
                    },
                    "metadata": {}
                }
            ],
            "execution_count": 20
        },
        {
            "cell_type": "code",
            "source": [
                "INSERT INTO Meals (MealID, MealName, Cost, Station, CookTime, Lv)\r\n",
                "VALUES (19, 'Miso Tofu', 21, 'Boiling Pot', 4.2, 2);"
            ],
            "metadata": {
                "language": "sql",
                "azdata_cell_guid": "495782db-4b2a-454e-b582-248722e8caf6"
            },
            "outputs": [
                {
                    "output_type": "display_data",
                    "data": {
                        "text/html": "(1 row affected)"
                    },
                    "metadata": {}
                },
                {
                    "output_type": "display_data",
                    "data": {
                        "text/html": "Total execution time: 00:00:00.033"
                    },
                    "metadata": {}
                }
            ],
            "execution_count": 21
        },
        {
            "cell_type": "code",
            "source": [
                "INSERT INTO Meals (MealID, MealName, Cost, Station, CookTime, Lv)\r\n",
                "VALUES (20, 'Deep Fried Tofu', 16, 'Frying Pan', 4.2, 1);"
            ],
            "metadata": {
                "language": "sql",
                "azdata_cell_guid": "d58fb257-2c15-4e69-9345-403335aa9074"
            },
            "outputs": [
                {
                    "output_type": "display_data",
                    "data": {
                        "text/html": "(1 row affected)"
                    },
                    "metadata": {}
                },
                {
                    "output_type": "display_data",
                    "data": {
                        "text/html": "Total execution time: 00:00:00.035"
                    },
                    "metadata": {}
                }
            ],
            "execution_count": 22
        },
        {
            "cell_type": "code",
            "source": [
                "INSERT INTO Meals (MealID, MealName, Cost, Station, CookTime, Lv)\r\n",
                "VALUES (21, 'Scholar''s Ginkgo', 60, 'Steamer', 4.8, 3);"
            ],
            "metadata": {
                "language": "sql",
                "azdata_cell_guid": "8dabaa35-2ac0-4ddc-aeb6-096f8341b7f8"
            },
            "outputs": [
                {
                    "output_type": "display_data",
                    "data": {
                        "text/html": "(1 row affected)"
                    },
                    "metadata": {}
                },
                {
                    "output_type": "display_data",
                    "data": {
                        "text/html": "Total execution time: 00:00:00.033"
                    },
                    "metadata": {}
                }
            ],
            "execution_count": 23
        },
        {
            "cell_type": "code",
            "source": [
                "INSERT INTO Meals (MealID, MealName, Cost, Station, CookTime, Lv)\r\n",
                "VALUES (22, 'Beef Bowl', 20, 'Boiling Pot', 4.2, 2);"
            ],
            "metadata": {
                "language": "sql",
                "azdata_cell_guid": "aab0dfeb-9b31-4a68-8966-313a18bafc5d"
            },
            "outputs": [
                {
                    "output_type": "display_data",
                    "data": {
                        "text/html": "(1 row affected)"
                    },
                    "metadata": {}
                },
                {
                    "output_type": "display_data",
                    "data": {
                        "text/html": "Total execution time: 00:00:00.033"
                    },
                    "metadata": {}
                }
            ],
            "execution_count": 24
        },
        {
            "cell_type": "code",
            "source": [
                "INSERT INTO Meals (MealID, MealName, Cost, Station, CookTime, Lv)\r\n",
                "VALUES (23, 'Vegetable Salad', 56, 'Cutting Board', 3, 3);"
            ],
            "metadata": {
                "language": "sql",
                "azdata_cell_guid": "388d3794-07fa-4c7d-86a2-161c745b075e"
            },
            "outputs": [
                {
                    "output_type": "display_data",
                    "data": {
                        "text/html": "(1 row affected)"
                    },
                    "metadata": {}
                },
                {
                    "output_type": "display_data",
                    "data": {
                        "text/html": "Total execution time: 00:00:00.036"
                    },
                    "metadata": {}
                }
            ],
            "execution_count": 25
        },
        {
            "cell_type": "code",
            "source": [
                "INSERT INTO Meals (MealID, MealName, Cost, Station, CookTime, Lv)\r\n",
                "VALUES (24, 'Pork Rice Ball', 14, 'Cutting Board', 3.6, 2);"
            ],
            "metadata": {
                "language": "sql",
                "azdata_cell_guid": "a008a2c5-fbe2-44d6-8549-06aa999089af"
            },
            "outputs": [
                {
                    "output_type": "display_data",
                    "data": {
                        "text/html": "(1 row affected)"
                    },
                    "metadata": {}
                },
                {
                    "output_type": "display_data",
                    "data": {
                        "text/html": "Total execution time: 00:00:00.033"
                    },
                    "metadata": {}
                }
            ],
            "execution_count": 26
        },
        {
            "cell_type": "code",
            "source": [
                "INSERT INTO Meals (MealID, MealName, Cost, Station, CookTime, Lv)\r\n",
                "VALUES (25, 'Shirayuki', 98, 'Boiling Pot', 7.2, 4);"
            ],
            "metadata": {
                "language": "sql",
                "azdata_cell_guid": "fd2a0ea9-a9d2-4012-a0af-dda543cefc06"
            },
            "outputs": [
                {
                    "output_type": "display_data",
                    "data": {
                        "text/html": "(1 row affected)"
                    },
                    "metadata": {}
                },
                {
                    "output_type": "display_data",
                    "data": {
                        "text/html": "Total execution time: 00:00:00.034"
                    },
                    "metadata": {}
                }
            ],
            "execution_count": 27
        },
        {
            "cell_type": "code",
            "source": [
                "INSERT INTO Meals (MealID, MealName, Cost, Station, CookTime, Lv)\r\n",
                "VALUES (26, 'Hunter''s Casserole', 66, 'Boiling Pot', 4.8, 4);"
            ],
            "metadata": {
                "language": "sql",
                "azdata_cell_guid": "370bffc7-44f3-45a2-a67f-f2546b1abc46"
            },
            "outputs": [
                {
                    "output_type": "display_data",
                    "data": {
                        "text/html": "(1 row affected)"
                    },
                    "metadata": {}
                },
                {
                    "output_type": "display_data",
                    "data": {
                        "text/html": "Total execution time: 00:00:00.080"
                    },
                    "metadata": {}
                }
            ],
            "execution_count": 28
        },
        {
            "cell_type": "code",
            "source": [
                "INSERT INTO Meals (MealID, MealName, Cost, Station, CookTime, Lv)\r\n",
                "VALUES (27, 'Falling Blossoms', 50, 'Cutting Board', 7.2, 4);"
            ],
            "metadata": {
                "language": "sql",
                "azdata_cell_guid": "685295a5-34c0-48e1-8180-760ec2d813da"
            },
            "outputs": [
                {
                    "output_type": "display_data",
                    "data": {
                        "text/html": "(1 row affected)"
                    },
                    "metadata": {}
                },
                {
                    "output_type": "display_data",
                    "data": {
                        "text/html": "Total execution time: 00:00:00.033"
                    },
                    "metadata": {}
                }
            ],
            "execution_count": 29
        },
        {
            "cell_type": "code",
            "source": [
                "INSERT INTO Meals (MealID, MealName, Cost, Station, CookTime, Lv)\r\n",
                "VALUES (28, 'Pink Rice Ball', 30, 'Cutting Board', 4.8, 3);"
            ],
            "metadata": {
                "language": "sql",
                "azdata_cell_guid": "47e6c520-8c28-4196-b238-febbc8ea994e"
            },
            "outputs": [
                {
                    "output_type": "display_data",
                    "data": {
                        "text/html": "(1 row affected)"
                    },
                    "metadata": {}
                },
                {
                    "output_type": "display_data",
                    "data": {
                        "text/html": "Total execution time: 00:00:00.051"
                    },
                    "metadata": {}
                }
            ],
            "execution_count": 30
        },
        {
            "cell_type": "code",
            "source": [
                "INSERT INTO Meals (MealID, MealName, Cost, Station, CookTime, Lv)\r\n",
                "VALUES (29, 'Carved Rose Salad', 20, 'Cutting Board', 3, 1);"
            ],
            "metadata": {
                "language": "sql",
                "azdata_cell_guid": "87e3406b-56da-49c3-bf05-8b62fab6c583"
            },
            "outputs": [
                {
                    "output_type": "display_data",
                    "data": {
                        "text/html": "(1 row affected)"
                    },
                    "metadata": {}
                },
                {
                    "output_type": "display_data",
                    "data": {
                        "text/html": "Total execution time: 00:00:00.035"
                    },
                    "metadata": {}
                }
            ],
            "execution_count": 31
        },
        {
            "cell_type": "code",
            "source": [
                "INSERT INTO Meals (MealID, MealName, Cost, Station, CookTime, Lv)\r\n",
                "VALUES (30, 'Imitation Bear Paw', 70, 'Steamer', 7.2, 3);"
            ],
            "metadata": {
                "language": "sql",
                "azdata_cell_guid": "c827e74e-a33b-476d-ab77-23a746aca4f6"
            },
            "outputs": [
                {
                    "output_type": "display_data",
                    "data": {
                        "text/html": "(1 row affected)"
                    },
                    "metadata": {}
                },
                {
                    "output_type": "display_data",
                    "data": {
                        "text/html": "Total execution time: 00:00:00.034"
                    },
                    "metadata": {}
                }
            ],
            "execution_count": 32
        },
        {
            "cell_type": "code",
            "source": [
                "INSERT INTO Meals (MealID, MealName, Cost, Station, CookTime, Lv)\r\n",
                "VALUES (31, 'Fried Pork Cutlet', 25, 'Frying Pan', 4.2, 2);"
            ],
            "metadata": {
                "language": "sql",
                "azdata_cell_guid": "473369f5-75ee-402f-a7a7-402d594ac63e"
            },
            "outputs": [
                {
                    "output_type": "display_data",
                    "data": {
                        "text/html": "(1 row affected)"
                    },
                    "metadata": {}
                },
                {
                    "output_type": "display_data",
                    "data": {
                        "text/html": "Total execution time: 00:00:00.033"
                    },
                    "metadata": {}
                }
            ],
            "execution_count": 33
        },
        {
            "cell_type": "code",
            "source": [
                "INSERT INTO Meals (MealID, MealName, Cost, Station, CookTime, Lv)\r\n",
                "VALUES (32, 'Dumplings', 35, 'Boiling Pot', 3, 2);"
            ],
            "metadata": {
                "language": "sql",
                "azdata_cell_guid": "6911e9ec-a6ea-45ba-83d4-f4cf7d9ee5af"
            },
            "outputs": [
                {
                    "output_type": "display_data",
                    "data": {
                        "text/html": "(1 row affected)"
                    },
                    "metadata": {}
                },
                {
                    "output_type": "display_data",
                    "data": {
                        "text/html": "Total execution time: 00:00:00.035"
                    },
                    "metadata": {}
                }
            ],
            "execution_count": 34
        },
        {
            "cell_type": "code",
            "source": [
                "INSERT INTO Meals (MealID, MealName, Cost, Station, CookTime, Lv)\r\n",
                "VALUES (33, 'Pork Stir Fry', 15, 'Frying Pan', 4.8, 1);"
            ],
            "metadata": {
                "language": "sql",
                "azdata_cell_guid": "87cf3941-2a84-47f9-b8ba-5847dd0a7416"
            },
            "outputs": [
                {
                    "output_type": "display_data",
                    "data": {
                        "text/html": "(1 row affected)"
                    },
                    "metadata": {}
                },
                {
                    "output_type": "display_data",
                    "data": {
                        "text/html": "Total execution time: 00:00:00.033"
                    },
                    "metadata": {}
                }
            ],
            "execution_count": 35
        },
        {
            "cell_type": "code",
            "source": [
                "INSERT INTO Meals (MealID, MealName, Cost, Station, CookTime, Lv)\r\n",
                "VALUES (34, 'Peach Tapioca', 55, 'Boiling Pot', 4.2, 2);"
            ],
            "metadata": {
                "language": "sql",
                "azdata_cell_guid": "c6f8d551-6c16-48b7-8e48-519220c1bb90"
            },
            "outputs": [
                {
                    "output_type": "display_data",
                    "data": {
                        "text/html": "(1 row affected)"
                    },
                    "metadata": {}
                },
                {
                    "output_type": "display_data",
                    "data": {
                        "text/html": "Total execution time: 00:00:00.038"
                    },
                    "metadata": {}
                }
            ],
            "execution_count": 36
        },
        {
            "cell_type": "code",
            "source": [
                "INSERT INTO Meals (MealID, MealName, Cost, Station, CookTime, Lv)\r\n",
                "VALUES (35, 'Hodgepodge', 40, 'Boiling Pot', 3, 2);"
            ],
            "metadata": {
                "language": "sql",
                "azdata_cell_guid": "19254112-c33b-473f-aa12-0e162f00e32f"
            },
            "outputs": [
                {
                    "output_type": "display_data",
                    "data": {
                        "text/html": "(1 row affected)"
                    },
                    "metadata": {}
                },
                {
                    "output_type": "display_data",
                    "data": {
                        "text/html": "Total execution time: 00:00:00.033"
                    },
                    "metadata": {}
                }
            ],
            "execution_count": 37
        },
        {
            "cell_type": "code",
            "source": [
                "INSERT INTO Meals (MealID, MealName, Cost, Station, CookTime, Lv)\r\n",
                "VALUES (36, 'Energy Skewer', 50, 'Grill', 7.2, 3);"
            ],
            "metadata": {
                "language": "sql",
                "azdata_cell_guid": "dedaaf0f-2052-4084-bc40-6370e64936c2"
            },
            "outputs": [
                {
                    "output_type": "display_data",
                    "data": {
                        "text/html": "(1 row affected)"
                    },
                    "metadata": {}
                },
                {
                    "output_type": "display_data",
                    "data": {
                        "text/html": "Total execution time: 00:00:00.083"
                    },
                    "metadata": {}
                }
            ],
            "execution_count": 38
        },
        {
            "cell_type": "code",
            "source": [
                "INSERT INTO Meals (MealID, MealName, Cost, Station, CookTime, Lv)\r\n",
                "VALUES (37, 'Daimyo''s Feast', 105, 'Boiling Pot', 6, 3);"
            ],
            "metadata": {
                "language": "sql",
                "azdata_cell_guid": "ad2e891a-4c5e-4f46-900e-35ef5e5a06bb"
            },
            "outputs": [
                {
                    "output_type": "display_data",
                    "data": {
                        "text/html": "(1 row affected)"
                    },
                    "metadata": {}
                },
                {
                    "output_type": "display_data",
                    "data": {
                        "text/html": "Total execution time: 00:00:00.065"
                    },
                    "metadata": {}
                }
            ],
            "execution_count": 39
        },
        {
            "cell_type": "code",
            "source": [
                "INSERT INTO Meals (MealID, MealName, Cost, Station, CookTime, Lv)\r\n",
                "VALUES (38, 'Scones', 8, 'Steamer', 4.2, 1);"
            ],
            "metadata": {
                "language": "sql",
                "azdata_cell_guid": "98c850b2-39e2-4170-bb6b-8e37b3207159"
            },
            "outputs": [
                {
                    "output_type": "display_data",
                    "data": {
                        "text/html": "(1 row affected)"
                    },
                    "metadata": {}
                },
                {
                    "output_type": "display_data",
                    "data": {
                        "text/html": "Total execution time: 00:00:00.065"
                    },
                    "metadata": {}
                }
            ],
            "execution_count": 40
        },
        {
            "cell_type": "code",
            "source": [
                "INSERT INTO Meals (MealID, MealName, Cost, Station, CookTime, Lv)\r\n",
                "VALUES (39, 'Salmon Steak', 58, 'Frying Pan', 6, 3);"
            ],
            "metadata": {
                "language": "sql",
                "azdata_cell_guid": "575b220b-243f-4354-abe3-479c67eb79a2"
            },
            "outputs": [
                {
                    "output_type": "display_data",
                    "data": {
                        "text/html": "(1 row affected)"
                    },
                    "metadata": {}
                },
                {
                    "output_type": "display_data",
                    "data": {
                        "text/html": "Total execution time: 00:00:00.086"
                    },
                    "metadata": {}
                }
            ],
            "execution_count": 41
        },
        {
            "cell_type": "code",
            "source": [
                "INSERT INTO Meals (MealID, MealName, Cost, Station, CookTime, Lv)\r\n",
                "VALUES (40, 'Pancakes with Syrup', 22, 'Frying Pan', 5.4, 2);"
            ],
            "metadata": {
                "language": "sql",
                "azdata_cell_guid": "e6984c11-20b0-4c4c-b084-8b5600160e13"
            },
            "outputs": [
                {
                    "output_type": "display_data",
                    "data": {
                        "text/html": "(1 row affected)"
                    },
                    "metadata": {}
                },
                {
                    "output_type": "display_data",
                    "data": {
                        "text/html": "Total execution time: 00:00:00.104"
                    },
                    "metadata": {}
                }
            ],
            "execution_count": 42
        },
        {
            "cell_type": "code",
            "source": [
                "INSERT INTO Meals (MealID, MealName, Cost, Station, CookTime, Lv)\r\n",
                "VALUES (41, 'Peach & Shrimp Salad', 25, 'Cutting Board', 6, 2);"
            ],
            "metadata": {
                "language": "sql",
                "azdata_cell_guid": "d2d321c5-1a77-49a5-b106-e3685628250d"
            },
            "outputs": [
                {
                    "output_type": "display_data",
                    "data": {
                        "text/html": "(1 row affected)"
                    },
                    "metadata": {}
                },
                {
                    "output_type": "display_data",
                    "data": {
                        "text/html": "Total execution time: 00:00:00.067"
                    },
                    "metadata": {}
                }
            ],
            "execution_count": 43
        },
        {
            "cell_type": "code",
            "source": [
                "INSERT INTO Meals (MealID, MealName, Cost, Station, CookTime, Lv)\r\n",
                "VALUES (42, 'Real Seafood Miso Soup', 55, 'Boiling Pot', 4.8, 2);"
            ],
            "metadata": {
                "language": "sql",
                "azdata_cell_guid": "b3052a6a-85fa-4da6-826f-74ef4647382c"
            },
            "outputs": [
                {
                    "output_type": "display_data",
                    "data": {
                        "text/html": "(1 row affected)"
                    },
                    "metadata": {}
                },
                {
                    "output_type": "display_data",
                    "data": {
                        "text/html": "Total execution time: 00:00:00.045"
                    },
                    "metadata": {}
                }
            ],
            "execution_count": 44
        },
        {
            "cell_type": "code",
            "source": [
                "INSERT INTO Meals (MealID, MealName, Cost, Station, CookTime, Lv)\r\n",
                "VALUES (43, 'Kabayaki Lamprey', 42, 'Frying Pan', 4.8, 3);"
            ],
            "metadata": {
                "language": "sql",
                "azdata_cell_guid": "9a4a16f9-ee79-4f43-86e6-bf356c20dd75"
            },
            "outputs": [
                {
                    "output_type": "display_data",
                    "data": {
                        "text/html": "(1 row affected)"
                    },
                    "metadata": {}
                },
                {
                    "output_type": "display_data",
                    "data": {
                        "text/html": "Total execution time: 00:00:00.075"
                    },
                    "metadata": {}
                }
            ],
            "execution_count": 45
        },
        {
            "cell_type": "code",
            "source": [
                "INSERT INTO Meals (MealID, MealName, Cost, Station, CookTime, Lv)\r\n",
                "VALUES (44, 'Eggs Benedict', 35, 'Frying Pan', 4.2, 2);"
            ],
            "metadata": {
                "language": "sql",
                "azdata_cell_guid": "87387036-5773-4484-b03a-99fc5ee974bf"
            },
            "outputs": [
                {
                    "output_type": "display_data",
                    "data": {
                        "text/html": "(1 row affected)"
                    },
                    "metadata": {}
                },
                {
                    "output_type": "display_data",
                    "data": {
                        "text/html": "Total execution time: 00:00:00.059"
                    },
                    "metadata": {}
                }
            ],
            "execution_count": 46
        },
        {
            "cell_type": "code",
            "source": [
                "INSERT INTO Meals (MealID, MealName, Cost, Station, CookTime, Lv)\r\n",
                "VALUES (45, 'Classic Steak', 60, 'Frying Pan', 4.2, 2);"
            ],
            "metadata": {
                "language": "sql",
                "azdata_cell_guid": "d8997dcc-c27e-4cd6-95b3-b1bcc755ac30"
            },
            "outputs": [
                {
                    "output_type": "display_data",
                    "data": {
                        "text/html": "(1 row affected)"
                    },
                    "metadata": {}
                },
                {
                    "output_type": "display_data",
                    "data": {
                        "text/html": "Total execution time: 00:00:00.062"
                    },
                    "metadata": {}
                }
            ],
            "execution_count": 47
        },
        {
            "cell_type": "code",
            "source": [
                "INSERT INTO Meals (MealID, MealName, Cost, Station, CookTime, Lv)\r\n",
                "VALUES (46, 'Sashimi Platter', 88, 'Cutting Board', 3, 3);"
            ],
            "metadata": {
                "language": "sql",
                "azdata_cell_guid": "c4a8f168-bd8a-4140-b9d1-4a27c520ae40"
            },
            "outputs": [
                {
                    "output_type": "display_data",
                    "data": {
                        "text/html": "(1 row affected)"
                    },
                    "metadata": {}
                },
                {
                    "output_type": "display_data",
                    "data": {
                        "text/html": "Total execution time: 00:00:00.064"
                    },
                    "metadata": {}
                }
            ],
            "execution_count": 48
        },
        {
            "cell_type": "code",
            "source": [
                "INSERT INTO Meals (MealID, MealName, Cost, Station, CookTime, Lv)\r\n",
                "VALUES (47, 'Golden Ribs Soup', 65, 'Boiling Pot', 3.6, 2);"
            ],
            "metadata": {
                "language": "sql",
                "azdata_cell_guid": "0aac5118-3d70-4947-9cbe-87a7849d5442"
            },
            "outputs": [
                {
                    "output_type": "display_data",
                    "data": {
                        "text/html": "(1 row affected)"
                    },
                    "metadata": {}
                },
                {
                    "output_type": "display_data",
                    "data": {
                        "text/html": "Total execution time: 00:00:00.056"
                    },
                    "metadata": {}
                }
            ],
            "execution_count": 49
        },
        {
            "cell_type": "code",
            "source": [
                "INSERT INTO Meals (MealID, MealName, Cost, Station, CookTime, Lv)\r\n",
                "VALUES (48, 'Cantonese Char Siu', 70, 'Grill', 4.2, 3);"
            ],
            "metadata": {
                "language": "sql",
                "azdata_cell_guid": "7913fa20-2ff3-4007-8425-0411d8369115"
            },
            "outputs": [
                {
                    "output_type": "display_data",
                    "data": {
                        "text/html": "(1 row affected)"
                    },
                    "metadata": {}
                },
                {
                    "output_type": "display_data",
                    "data": {
                        "text/html": "Total execution time: 00:00:00.067"
                    },
                    "metadata": {}
                }
            ],
            "execution_count": 50
        },
        {
            "cell_type": "code",
            "source": [
                "INSERT INTO Meals (MealID, MealName, Cost, Station, CookTime, Lv)\r\n",
                "VALUES (49, 'Rainbow Pan-fried Pork Buns', 128, 'Frying Pan', 4.8, 4);"
            ],
            "metadata": {
                "language": "sql",
                "azdata_cell_guid": "9087576c-8f7e-4f26-a505-099731f247c6"
            },
            "outputs": [
                {
                    "output_type": "display_data",
                    "data": {
                        "text/html": "(1 row affected)"
                    },
                    "metadata": {}
                },
                {
                    "output_type": "display_data",
                    "data": {
                        "text/html": "Total execution time: 00:00:00.044"
                    },
                    "metadata": {}
                }
            ],
            "execution_count": 51
        },
        {
            "cell_type": "code",
            "source": [
                "INSERT INTO Meals (MealID, MealName, Cost, Station, CookTime, Lv)\r\n",
                "VALUES (50, 'Italian Risotto', 70, 'Steamer', 3.6, 2);"
            ],
            "metadata": {
                "language": "sql",
                "azdata_cell_guid": "7f744a87-77a0-4db1-85a4-025db7814560"
            },
            "outputs": [
                {
                    "output_type": "display_data",
                    "data": {
                        "text/html": "(1 row affected)"
                    },
                    "metadata": {}
                },
                {
                    "output_type": "display_data",
                    "data": {
                        "text/html": "Total execution time: 00:00:00.036"
                    },
                    "metadata": {}
                }
            ],
            "execution_count": 52
        },
        {
            "cell_type": "code",
            "source": [
                "INSERT INTO Meals (MealID, MealName, Cost, Station, CookTime, Lv)\r\n",
                "VALUES (51, 'Niten Ichiryu', 90, 'Grill', 10.8, 4);"
            ],
            "metadata": {
                "language": "sql",
                "azdata_cell_guid": "e12b90e8-cb62-49ef-bfa7-13469d00dbc5"
            },
            "outputs": [
                {
                    "output_type": "display_data",
                    "data": {
                        "text/html": "(1 row affected)"
                    },
                    "metadata": {}
                },
                {
                    "output_type": "display_data",
                    "data": {
                        "text/html": "Total execution time: 00:00:00.040"
                    },
                    "metadata": {}
                }
            ],
            "execution_count": 53
        },
        {
            "cell_type": "code",
            "source": [
                "INSERT INTO Meals (MealID, MealName, Cost, Station, CookTime, Lv)\r\n",
                "VALUES (52, 'Creamy Vegetable Chowder', 20, 'Steamer', 5.4, 2);"
            ],
            "metadata": {
                "language": "sql",
                "azdata_cell_guid": "0a27a8d4-5f31-4373-a5f4-2d9484689bd7"
            },
            "outputs": [
                {
                    "output_type": "display_data",
                    "data": {
                        "text/html": "(1 row affected)"
                    },
                    "metadata": {}
                },
                {
                    "output_type": "display_data",
                    "data": {
                        "text/html": "Total execution time: 00:00:00.063"
                    },
                    "metadata": {}
                }
            ],
            "execution_count": 54
        },
        {
            "cell_type": "code",
            "source": [
                "INSERT INTO Meals (MealID, MealName, Cost, Station, CookTime, Lv)\r\n",
                "VALUES (53, 'Pork & Bamboo Shoots Stir Fry', 25, 'Frying Pan', 6, 2);"
            ],
            "metadata": {
                "language": "sql",
                "azdata_cell_guid": "769b9f66-1082-47bb-93dc-f9dad94196d6"
            },
            "outputs": [
                {
                    "output_type": "display_data",
                    "data": {
                        "text/html": "(1 row affected)"
                    },
                    "metadata": {}
                },
                {
                    "output_type": "display_data",
                    "data": {
                        "text/html": "Total execution time: 00:00:00.037"
                    },
                    "metadata": {}
                }
            ],
            "execution_count": 55
        },
        {
            "cell_type": "code",
            "source": [
                "INSERT INTO Meals (MealID, MealName, Cost, Station, CookTime, Lv)\r\n",
                "VALUES (54, 'Mochi', 30, 'Cutting Board', 4.2, 2);"
            ],
            "metadata": {
                "language": "sql",
                "azdata_cell_guid": "018d6c09-698f-43d1-a60b-49c659693479"
            },
            "outputs": [
                {
                    "output_type": "display_data",
                    "data": {
                        "text/html": "(1 row affected)"
                    },
                    "metadata": {}
                },
                {
                    "output_type": "display_data",
                    "data": {
                        "text/html": "Total execution time: 00:00:00.035"
                    },
                    "metadata": {}
                }
            ],
            "execution_count": 56
        },
        {
            "cell_type": "code",
            "source": [
                "INSERT INTO Meals (MealID, MealName, Cost, Station, CookTime, Lv)\r\n",
                "VALUES (55, 'Flowing Somen', 40, 'Cutting Board', 4.2, 3);"
            ],
            "metadata": {
                "language": "sql",
                "azdata_cell_guid": "c9f13d2d-06a4-41ec-93ca-1aeb531d048a"
            },
            "outputs": [
                {
                    "output_type": "display_data",
                    "data": {
                        "text/html": "(1 row affected)"
                    },
                    "metadata": {}
                },
                {
                    "output_type": "display_data",
                    "data": {
                        "text/html": "Total execution time: 00:00:00.034"
                    },
                    "metadata": {}
                }
            ],
            "execution_count": 57
        },
        {
            "cell_type": "code",
            "source": [
                "INSERT INTO Meals (MealID, MealName, Cost, Station, CookTime, Lv)\r\n",
                "VALUES (56, 'Ino-Shika-Chou', 78, 'Steamer', 4.8, 3);"
            ],
            "metadata": {
                "language": "sql",
                "azdata_cell_guid": "89bb03d9-137c-4388-8dfd-10b3b5367a9e"
            },
            "outputs": [
                {
                    "output_type": "display_data",
                    "data": {
                        "text/html": "(1 row affected)"
                    },
                    "metadata": {}
                },
                {
                    "output_type": "display_data",
                    "data": {
                        "text/html": "Total execution time: 00:00:00.039"
                    },
                    "metadata": {}
                }
            ],
            "execution_count": 58
        },
        {
            "cell_type": "code",
            "source": [
                "INSERT INTO Meals (MealID, MealName, Cost, Station, CookTime, Lv)\r\n",
                "VALUES (57, 'Peach Yatsuhashi', 55, 'Cutting Board', 3, 2);"
            ],
            "metadata": {
                "language": "sql",
                "azdata_cell_guid": "f5f0b437-8c66-4f92-aa5e-913653ebc3f3"
            },
            "outputs": [
                {
                    "output_type": "display_data",
                    "data": {
                        "text/html": "(1 row affected)"
                    },
                    "metadata": {}
                },
                {
                    "output_type": "display_data",
                    "data": {
                        "text/html": "Total execution time: 00:00:00.033"
                    },
                    "metadata": {}
                }
            ],
            "execution_count": 59
        },
        {
            "cell_type": "code",
            "source": [
                "INSERT INTO Meals (MealID, MealName, Cost, Station, CookTime, Lv)\r\n",
                "VALUES (58, 'Kaguya-hime', 65, 'Steamer', 7.2, 4);"
            ],
            "metadata": {
                "language": "sql",
                "azdata_cell_guid": "6786c4e0-fa45-4c03-82a8-f14266e77b93"
            },
            "outputs": [
                {
                    "output_type": "display_data",
                    "data": {
                        "text/html": "(1 row affected)"
                    },
                    "metadata": {}
                },
                {
                    "output_type": "display_data",
                    "data": {
                        "text/html": "Total execution time: 00:00:00.033"
                    },
                    "metadata": {}
                }
            ],
            "execution_count": 60
        },
        {
            "cell_type": "code",
            "source": [
                "INSERT INTO Meals (MealID, MealName, Cost, Station, CookTime, Lv)\r\n",
                "VALUES (59, 'Immortal Turkey', 65, 'Grill', 7.2, 4);"
            ],
            "metadata": {
                "language": "sql",
                "azdata_cell_guid": "653e0a02-1a7d-405f-8d64-bd2f850b1675"
            },
            "outputs": [
                {
                    "output_type": "display_data",
                    "data": {
                        "text/html": "(1 row affected)"
                    },
                    "metadata": {}
                },
                {
                    "output_type": "display_data",
                    "data": {
                        "text/html": "Total execution time: 00:00:00.033"
                    },
                    "metadata": {}
                }
            ],
            "execution_count": 61
        },
        {
            "cell_type": "code",
            "source": [
                "INSERT INTO Meals (MealID, MealName, Cost, Station, CookTime, Lv)\r\n",
                "VALUES (60, 'Steamed Egg & Bamboo Shoots', 40, 'Steamer', 3.6, 2);"
            ],
            "metadata": {
                "language": "sql",
                "azdata_cell_guid": "3bcc5a8e-1066-4bd9-a558-7070dd50801a"
            },
            "outputs": [
                {
                    "output_type": "display_data",
                    "data": {
                        "text/html": "(1 row affected)"
                    },
                    "metadata": {}
                },
                {
                    "output_type": "display_data",
                    "data": {
                        "text/html": "Total execution time: 00:00:00.033"
                    },
                    "metadata": {}
                }
            ],
            "execution_count": 62
        },
        {
            "cell_type": "code",
            "source": [
                "INSERT INTO Meals (MealID, MealName, Cost, Station, CookTime, Lv)\r\n",
                "VALUES (61, 'Mapo Tofu', 32, 'Frying Pan', 3.6, 2);"
            ],
            "metadata": {
                "language": "sql",
                "azdata_cell_guid": "2444bdb4-25cb-43c5-a976-cb7d1c34f372"
            },
            "outputs": [
                {
                    "output_type": "display_data",
                    "data": {
                        "text/html": "(1 row affected)"
                    },
                    "metadata": {}
                },
                {
                    "output_type": "display_data",
                    "data": {
                        "text/html": "Total execution time: 00:00:00.034"
                    },
                    "metadata": {}
                }
            ],
            "execution_count": 63
        },
        {
            "cell_type": "code",
            "source": [
                "INSERT INTO Meals (MealID, MealName, Cost, Station, CookTime, Lv)\r\n",
                "VALUES (62, 'Lunar Lover Biscuits', 66, 'Cutting Board', 6, 3);"
            ],
            "metadata": {
                "language": "sql",
                "azdata_cell_guid": "12fd5668-1e2c-4517-94c1-0f725d04c6c6"
            },
            "outputs": [
                {
                    "output_type": "display_data",
                    "data": {
                        "text/html": "(1 row affected)"
                    },
                    "metadata": {}
                },
                {
                    "output_type": "display_data",
                    "data": {
                        "text/html": "Total execution time: 00:00:00.089"
                    },
                    "metadata": {}
                }
            ],
            "execution_count": 64
        },
        {
            "cell_type": "code",
            "source": [
                "INSERT INTO Meals (MealID, MealName, Cost, Station, CookTime, Lv)\r\n",
                "VALUES (63, 'Beef Wellington', 150, 'Frying Pan', 8.4, 4);"
            ],
            "metadata": {
                "language": "sql",
                "azdata_cell_guid": "26711097-dd90-4e44-8ee9-6053f3c1d003"
            },
            "outputs": [
                {
                    "output_type": "display_data",
                    "data": {
                        "text/html": "(1 row affected)"
                    },
                    "metadata": {}
                },
                {
                    "output_type": "display_data",
                    "data": {
                        "text/html": "Total execution time: 00:00:00.033"
                    },
                    "metadata": {}
                }
            ],
            "execution_count": 65
        },
        {
            "cell_type": "code",
            "source": [
                "INSERT INTO Meals (MealID, MealName, Cost, Station, CookTime, Lv)\r\n",
                "VALUES (64, 'Lunar Dango', 80, 'Cutting Board', 4.8, 3);"
            ],
            "metadata": {
                "language": "sql",
                "azdata_cell_guid": "a07d0e19-7515-4600-8cbe-9ad19ab1e9e1"
            },
            "outputs": [
                {
                    "output_type": "display_data",
                    "data": {
                        "text/html": "(1 row affected)"
                    },
                    "metadata": {}
                },
                {
                    "output_type": "display_data",
                    "data": {
                        "text/html": "Total execution time: 00:00:00.033"
                    },
                    "metadata": {}
                }
            ],
            "execution_count": 66
        },
        {
            "cell_type": "code",
            "source": [
                "INSERT INTO Meals (MealID, MealName, Cost, Station, CookTime, Lv)\r\n",
                "VALUES (65, 'Sichuan Boiled Fish', 68, 'Boiling Pot', 4.8, 3);"
            ],
            "metadata": {
                "language": "sql",
                "azdata_cell_guid": "ee0acd13-df92-4f63-be6b-3eb41cac8941"
            },
            "outputs": [
                {
                    "output_type": "display_data",
                    "data": {
                        "text/html": "(1 row affected)"
                    },
                    "metadata": {}
                },
                {
                    "output_type": "display_data",
                    "data": {
                        "text/html": "Total execution time: 00:00:00.033"
                    },
                    "metadata": {}
                }
            ],
            "execution_count": 67
        },
        {
            "cell_type": "code",
            "source": [
                "INSERT INTO Meals (MealID, MealName, Cost, Station, CookTime, Lv)\r\n",
                "VALUES (66, 'Hourai Branch', 125, 'Grill', 7.8, 5);"
            ],
            "metadata": {
                "language": "sql",
                "azdata_cell_guid": "3d5fe994-3a4b-4d6e-8199-d367b7af82ad"
            },
            "outputs": [
                {
                    "output_type": "display_data",
                    "data": {
                        "text/html": "(1 row affected)"
                    },
                    "metadata": {}
                },
                {
                    "output_type": "display_data",
                    "data": {
                        "text/html": "Total execution time: 00:00:00.036"
                    },
                    "metadata": {}
                }
            ],
            "execution_count": 68
        },
        {
            "cell_type": "code",
            "source": [
                "INSERT INTO Meals (MealID, MealName, Cost, Station, CookTime, Lv)\r\n",
                "VALUES (67, 'Fuji''s Lava', 125, 'Boiling Pot', 4.8, 3);"
            ],
            "metadata": {
                "language": "sql",
                "azdata_cell_guid": "6954653f-839e-4d6c-8e82-f19a9e024257"
            },
            "outputs": [
                {
                    "output_type": "display_data",
                    "data": {
                        "text/html": "(1 row affected)"
                    },
                    "metadata": {}
                },
                {
                    "output_type": "display_data",
                    "data": {
                        "text/html": "Total execution time: 00:00:00.033"
                    },
                    "metadata": {}
                }
            ],
            "execution_count": 69
        },
        {
            "cell_type": "code",
            "source": [
                "INSERT INTO Meals (MealID, MealName, Cost, Station, CookTime, Lv)\r\n",
                "VALUES (68, 'Cubic Kedama Ice Cream', 75, 'Cutting Board', 4.8, 3);"
            ],
            "metadata": {
                "language": "sql",
                "azdata_cell_guid": "8c8e74ba-b7ad-4637-a384-19f21ec15c76"
            },
            "outputs": [
                {
                    "output_type": "display_data",
                    "data": {
                        "text/html": "(1 row affected)"
                    },
                    "metadata": {}
                },
                {
                    "output_type": "display_data",
                    "data": {
                        "text/html": "Total execution time: 00:00:00.034"
                    },
                    "metadata": {}
                }
            ],
            "execution_count": 70
        },
        {
            "cell_type": "code",
            "source": [
                "INSERT INTO Meals (MealID, MealName, Cost, Station, CookTime, Lv)\r\n",
                "VALUES (69, 'Cubic Kedama Volcanic Tofu', 85, 'Cutting Board', 4.8, 3);"
            ],
            "metadata": {
                "language": "sql",
                "azdata_cell_guid": "2cd4b687-1409-4f92-a81a-f75de62508be"
            },
            "outputs": [
                {
                    "output_type": "display_data",
                    "data": {
                        "text/html": "(1 row affected)"
                    },
                    "metadata": {}
                },
                {
                    "output_type": "display_data",
                    "data": {
                        "text/html": "Total execution time: 00:00:00.033"
                    },
                    "metadata": {}
                }
            ],
            "execution_count": 71
        },
        {
            "cell_type": "code",
            "source": [
                "INSERT INTO Meals (MealID, MealName, Cost, Station, CookTime, Lv)\r\n",
                "VALUES (70, 'Scarlet Devil Cake', 60, 'Cutting Board', 4.8, 3);"
            ],
            "metadata": {
                "language": "sql",
                "azdata_cell_guid": "80c4e48c-78c3-4797-8361-018a3e8ea517"
            },
            "outputs": [
                {
                    "output_type": "display_data",
                    "data": {
                        "text/html": "(1 row affected)"
                    },
                    "metadata": {}
                },
                {
                    "output_type": "display_data",
                    "data": {
                        "text/html": "Total execution time: 00:00:00.037"
                    },
                    "metadata": {}
                }
            ],
            "execution_count": 72
        },
        {
            "cell_type": "code",
            "source": [
                "INSERT INTO Meals (MealID, MealName, Cost, Station, CookTime, Lv)\r\n",
                "VALUES (71, 'Unconscious Youkai Mousse', 60, 'Cutting Board', 4.8, 3);"
            ],
            "metadata": {
                "language": "sql",
                "azdata_cell_guid": "ef7b126e-b744-4516-b717-3c22435a80ba"
            },
            "outputs": [
                {
                    "output_type": "display_data",
                    "data": {
                        "text/html": "(1 row affected)"
                    },
                    "metadata": {}
                },
                {
                    "output_type": "display_data",
                    "data": {
                        "text/html": "Total execution time: 00:00:00.034"
                    },
                    "metadata": {}
                }
            ],
            "execution_count": 73
        },
        {
            "cell_type": "code",
            "source": [
                "INSERT INTO Meals (MealID, MealName, Cost, Station, CookTime, Lv)\r\n",
                "VALUES (72, 'Tangyuan', 35, 'Boiling Pot', 3, 2);"
            ],
            "metadata": {
                "language": "sql",
                "azdata_cell_guid": "ba662b3e-3ce3-45d7-9d33-2bd7312b6224"
            },
            "outputs": [
                {
                    "output_type": "display_data",
                    "data": {
                        "text/html": "(1 row affected)"
                    },
                    "metadata": {}
                },
                {
                    "output_type": "display_data",
                    "data": {
                        "text/html": "Total execution time: 00:00:00.036"
                    },
                    "metadata": {}
                }
            ],
            "execution_count": 74
        },
        {
            "cell_type": "code",
            "source": [
                "INSERT INTO Meals (MealID, MealName, Cost, Station, CookTime, Lv)\r\n",
                "VALUES (73, 'Pork & Mushroom Stir Fry', 20, 'Frying Pan', 3.6, 1);"
            ],
            "metadata": {
                "language": "sql",
                "azdata_cell_guid": "5bfe4728-b805-4fb6-a40c-75e3f1ab2772"
            },
            "outputs": [
                {
                    "output_type": "display_data",
                    "data": {
                        "text/html": "(1 row affected)"
                    },
                    "metadata": {}
                },
                {
                    "output_type": "display_data",
                    "data": {
                        "text/html": "Total execution time: 00:00:00.033"
                    },
                    "metadata": {}
                }
            ],
            "execution_count": 75
        },
        {
            "cell_type": "code",
            "source": [
                "INSERT INTO Meals (MealID, MealName, Cost, Station, CookTime, Lv)\r\n",
                "VALUES (74, 'Nigiri Sushi', 28, 'Cutting Board', 3.6, 1);"
            ],
            "metadata": {
                "language": "sql",
                "azdata_cell_guid": "047dc34e-604e-402b-bc67-d9de74740068"
            },
            "outputs": [
                {
                    "output_type": "display_data",
                    "data": {
                        "text/html": "(1 row affected)"
                    },
                    "metadata": {}
                },
                {
                    "output_type": "display_data",
                    "data": {
                        "text/html": "Total execution time: 00:00:00.034"
                    },
                    "metadata": {}
                }
            ],
            "execution_count": 76
        },
        {
            "cell_type": "code",
            "source": [
                "INSERT INTO Meals (MealID, MealName, Cost, Station, CookTime, Lv)\r\n",
                "VALUES (75, 'Secret Savory Mushroom Hotpot', 62, 'Boiling Pot', 5.4, 3);"
            ],
            "metadata": {
                "language": "sql",
                "azdata_cell_guid": "a65e510e-8853-4546-920d-1421540ea9a7"
            },
            "outputs": [
                {
                    "output_type": "display_data",
                    "data": {
                        "text/html": "(1 row affected)"
                    },
                    "metadata": {}
                },
                {
                    "output_type": "display_data",
                    "data": {
                        "text/html": "Total execution time: 00:00:00.033"
                    },
                    "metadata": {}
                }
            ],
            "execution_count": 77
        },
        {
            "cell_type": "code",
            "source": [
                "INSERT INTO Meals (MealID, MealName, Cost, Station, CookTime, Lv)\r\n",
                "VALUES (76, 'Deep Fried Shrimp Tempura', 22, 'Frying Pan', 3.6, 1);"
            ],
            "metadata": {
                "azdata_cell_guid": "5e1bbf0c-1d62-4218-ae7a-e1a56d69e68e",
                "language": "sql"
            },
            "outputs": [
                {
                    "output_type": "display_data",
                    "data": {
                        "text/html": "(1 row affected)"
                    },
                    "metadata": {}
                },
                {
                    "output_type": "display_data",
                    "data": {
                        "text/html": "Total execution time: 00:00:00.033"
                    },
                    "metadata": {}
                }
            ],
            "execution_count": 78
        },
        {
            "cell_type": "code",
            "source": [
                "INSERT INTO Meals (MealID, MealName, Cost, Station, CookTime, Lv)\r\n",
                "VALUES (77, 'Cream of Mushroom Soup', 28, 'Boiling Pot', 4.8, 1);"
            ],
            "metadata": {
                "language": "sql",
                "azdata_cell_guid": "c61cb1a5-ac51-49c1-bb8e-2fb75b04e21b"
            },
            "outputs": [
                {
                    "output_type": "display_data",
                    "data": {
                        "text/html": "(1 row affected)"
                    },
                    "metadata": {}
                },
                {
                    "output_type": "display_data",
                    "data": {
                        "text/html": "Total execution time: 00:00:00.033"
                    },
                    "metadata": {}
                }
            ],
            "execution_count": 79
        },
        {
            "cell_type": "code",
            "source": [
                "INSERT INTO Meals (MealID, MealName, Cost, Station, CookTime, Lv)\r\n",
                "VALUES (78, 'Okonomiyaki', 24, 'Frying Pan', 3.6, 2);"
            ],
            "metadata": {
                "language": "sql",
                "azdata_cell_guid": "5656d6e1-2cce-43e8-881b-e97a066d5373"
            },
            "outputs": [
                {
                    "output_type": "display_data",
                    "data": {
                        "text/html": "(1 row affected)"
                    },
                    "metadata": {}
                },
                {
                    "output_type": "display_data",
                    "data": {
                        "text/html": "Total execution time: 00:00:00.034"
                    },
                    "metadata": {}
                }
            ],
            "execution_count": 80
        },
        {
            "cell_type": "code",
            "source": [
                "INSERT INTO Meals (MealID, MealName, Cost, Station, CookTime, Lv)\r\n",
                "VALUES (79, 'Pickles', 16, 'Cutting Board', 3.6, 1);"
            ],
            "metadata": {
                "language": "sql",
                "azdata_cell_guid": "585f3ec9-a68d-4f9f-bf9f-425e3feaac62"
            },
            "outputs": [
                {
                    "output_type": "display_data",
                    "data": {
                        "text/html": "(1 row affected)"
                    },
                    "metadata": {}
                },
                {
                    "output_type": "display_data",
                    "data": {
                        "text/html": "Total execution time: 00:00:00.038"
                    },
                    "metadata": {}
                }
            ],
            "execution_count": 81
        },
        {
            "cell_type": "code",
            "source": [
                "INSERT INTO Meals (MealID, MealName, Cost, Station, CookTime, Lv)\r\n",
                "VALUES (80, 'Mushroom Maiden''s Tip Tap Pot', 112, 'Boiling Pot', 8.4, 4);"
            ],
            "metadata": {
                "language": "sql",
                "azdata_cell_guid": "bb5eb9d2-465c-41c8-a89b-dc8226cc90ce"
            },
            "outputs": [
                {
                    "output_type": "display_data",
                    "data": {
                        "text/html": "(1 row affected)"
                    },
                    "metadata": {}
                },
                {
                    "output_type": "display_data",
                    "data": {
                        "text/html": "Total execution time: 00:00:00.033"
                    },
                    "metadata": {}
                }
            ],
            "execution_count": 82
        },
        {
            "cell_type": "code",
            "source": [
                "INSERT INTO Meals (MealID, MealName, Cost, Station, CookTime, Lv)\r\n",
                "VALUES (81, 'Takoyaki', 36, 'Frying Pan', 4.8, 2);"
            ],
            "metadata": {
                "language": "sql",
                "azdata_cell_guid": "b0dd63fe-2bce-4708-9ba0-bd9d6bc22496"
            },
            "outputs": [
                {
                    "output_type": "display_data",
                    "data": {
                        "text/html": "(1 row affected)"
                    },
                    "metadata": {}
                },
                {
                    "output_type": "display_data",
                    "data": {
                        "text/html": "Total execution time: 00:00:00.034"
                    },
                    "metadata": {}
                }
            ],
            "execution_count": 83
        },
        {
            "cell_type": "code",
            "source": [
                "INSERT INTO Meals (MealID, MealName, Cost, Station, CookTime, Lv)\r\n",
                "VALUES (82, 'Golden Crispy Fish Cakes', 40, 'Frying Pan', 5.4, 2);"
            ],
            "metadata": {
                "language": "sql",
                "azdata_cell_guid": "0974e5e3-7d7e-4357-80f4-fbe8e32f0d41"
            },
            "outputs": [
                {
                    "output_type": "display_data",
                    "data": {
                        "text/html": "(1 row affected)"
                    },
                    "metadata": {}
                },
                {
                    "output_type": "display_data",
                    "data": {
                        "text/html": "Total execution time: 00:00:00.034"
                    },
                    "metadata": {}
                }
            ],
            "execution_count": 84
        },
        {
            "cell_type": "code",
            "source": [
                "INSERT INTO Meals (MealID, MealName, Cost, Station, CookTime, Lv)\r\n",
                "VALUES (83, 'Creamy Crab', 88, 'Frying Pan', 7.2, 3);"
            ],
            "metadata": {
                "language": "sql",
                "azdata_cell_guid": "abd5d047-bff0-4f8b-b50a-69c1f4a7e149"
            },
            "outputs": [
                {
                    "output_type": "display_data",
                    "data": {
                        "text/html": "(1 row affected)"
                    },
                    "metadata": {}
                },
                {
                    "output_type": "display_data",
                    "data": {
                        "text/html": "Total execution time: 00:00:00.033"
                    },
                    "metadata": {}
                }
            ],
            "execution_count": 85
        },
        {
            "cell_type": "code",
            "source": [
                "INSERT INTO Meals (MealID, MealName, Cost, Station, CookTime, Lv)\r\n",
                "VALUES (84, 'Sea Urchin Sashimi', 108, 'Cutting Board', 4.8, 4);"
            ],
            "metadata": {
                "language": "sql",
                "azdata_cell_guid": "44190c03-5ad3-4a5f-8d83-1001f4058ef6"
            },
            "outputs": [
                {
                    "output_type": "display_data",
                    "data": {
                        "text/html": "(1 row affected)"
                    },
                    "metadata": {}
                },
                {
                    "output_type": "display_data",
                    "data": {
                        "text/html": "Total execution time: 00:00:00.034"
                    },
                    "metadata": {}
                }
            ],
            "execution_count": 86
        },
        {
            "cell_type": "code",
            "source": [
                "INSERT INTO Meals (MealID, MealName, Cost, Station, CookTime, Lv)\r\n",
                "VALUES (85, 'All-Meat Feast', 115, 'Grill', 8.4, 4);"
            ],
            "metadata": {
                "language": "sql",
                "azdata_cell_guid": "81dabc0e-b773-4efd-a994-f0d1eb4dc011"
            },
            "outputs": [
                {
                    "output_type": "display_data",
                    "data": {
                        "text/html": "(1 row affected)"
                    },
                    "metadata": {}
                },
                {
                    "output_type": "display_data",
                    "data": {
                        "text/html": "Total execution time: 00:00:00.035"
                    },
                    "metadata": {}
                }
            ],
            "execution_count": 87
        },
        {
            "cell_type": "code",
            "source": [
                "INSERT INTO Meals (MealID, MealName, Cost, Station, CookTime, Lv)\r\n",
                "VALUES (86, 'Imitation Sirikodama', 120, 'Boiling Pot', 7.2, 4);"
            ],
            "metadata": {
                "language": "sql",
                "azdata_cell_guid": "141b241d-2799-4752-9207-74fd3fd3e955"
            },
            "outputs": [
                {
                    "output_type": "display_data",
                    "data": {
                        "text/html": "(1 row affected)"
                    },
                    "metadata": {}
                },
                {
                    "output_type": "display_data",
                    "data": {
                        "text/html": "Total execution time: 00:00:00.036"
                    },
                    "metadata": {}
                }
            ],
            "execution_count": 88
        },
        {
            "cell_type": "code",
            "source": [
                "INSERT INTO Meals (MealID, MealName, Cost, Station, CookTime, Lv)\r\n",
                "VALUES (87, 'Ordinary \"Eat Me\" Cupcake', 56, 'Steamer', 4.8, 2);"
            ],
            "metadata": {
                "language": "sql",
                "azdata_cell_guid": "aefccfb6-0c54-4534-978e-0b888ac79967"
            },
            "outputs": [
                {
                    "output_type": "display_data",
                    "data": {
                        "text/html": "(1 row affected)"
                    },
                    "metadata": {}
                },
                {
                    "output_type": "display_data",
                    "data": {
                        "text/html": "Total execution time: 00:00:00.034"
                    },
                    "metadata": {}
                }
            ],
            "execution_count": 89
        },
        {
            "cell_type": "code",
            "source": [
                "INSERT INTO Meals (MealID, MealName, Cost, Station, CookTime, Lv)\r\n",
                "VALUES (88, 'Shrimp-Stuffed Pumpkin', 55, 'Steamer', 5.4, 2);"
            ],
            "metadata": {
                "language": "sql",
                "azdata_cell_guid": "9ff706b1-b2ef-4dde-81b5-1a06c6a82c12"
            },
            "outputs": [
                {
                    "output_type": "display_data",
                    "data": {
                        "text/html": "(1 row affected)"
                    },
                    "metadata": {}
                },
                {
                    "output_type": "display_data",
                    "data": {
                        "text/html": "Total execution time: 00:00:00.034"
                    },
                    "metadata": {}
                }
            ],
            "execution_count": 90
        },
        {
            "cell_type": "code",
            "source": [
                "INSERT INTO Meals (MealID, MealName, Cost, Station, CookTime, Lv)\r\n",
                "VALUES (89, 'Seven-Colored Yokan', 92, 'Steamer', 4.8, 4);"
            ],
            "metadata": {
                "language": "sql",
                "azdata_cell_guid": "8f65deeb-aec0-4f20-8223-8ab2efc29fbc"
            },
            "outputs": [
                {
                    "output_type": "display_data",
                    "data": {
                        "text/html": "(1 row affected)"
                    },
                    "metadata": {}
                },
                {
                    "output_type": "display_data",
                    "data": {
                        "text/html": "Total execution time: 00:00:00.033"
                    },
                    "metadata": {}
                }
            ],
            "execution_count": 91
        },
        {
            "cell_type": "code",
            "source": [
                "INSERT INTO Meals (MealID, MealName, Cost, Station, CookTime, Lv)\r\n",
                "VALUES (90, 'Buddha Jumps Over The Wall', 160, 'Boiling Pot', 10.8, 4);"
            ],
            "metadata": {
                "language": "sql",
                "azdata_cell_guid": "e1850734-078f-43a0-9b95-d9e5fbbfeef0"
            },
            "outputs": [
                {
                    "output_type": "display_data",
                    "data": {
                        "text/html": "(1 row affected)"
                    },
                    "metadata": {}
                },
                {
                    "output_type": "display_data",
                    "data": {
                        "text/html": "Total execution time: 00:00:00.034"
                    },
                    "metadata": {}
                }
            ],
            "execution_count": 92
        },
        {
            "cell_type": "code",
            "source": [
                "INSERT INTO Meals (MealID, MealName, Cost, Station, CookTime, Lv)\r\n",
                "VALUES (91, 'Misery Cheese Sticks', 25, 'Steamer', 3.6, 1);"
            ],
            "metadata": {
                "language": "sql",
                "azdata_cell_guid": "ae2e733a-54f8-45bd-8fd3-b2e76585bbe8"
            },
            "outputs": [
                {
                    "output_type": "display_data",
                    "data": {
                        "text/html": "(1 row affected)"
                    },
                    "metadata": {}
                },
                {
                    "output_type": "display_data",
                    "data": {
                        "text/html": "Total execution time: 00:00:00.034"
                    },
                    "metadata": {}
                }
            ],
            "execution_count": 93
        },
        {
            "cell_type": "code",
            "source": [
                "INSERT INTO Meals (MealID, MealName, Cost, Station, CookTime, Lv)\r\n",
                "VALUES (92, 'Crispy Spirals', 42, 'Cutting Board', 3, 1);"
            ],
            "metadata": {
                "language": "sql",
                "azdata_cell_guid": "604d6e67-4a13-4819-86a5-0f2d32c76613"
            },
            "outputs": [
                {
                    "output_type": "display_data",
                    "data": {
                        "text/html": "(1 row affected)"
                    },
                    "metadata": {}
                },
                {
                    "output_type": "display_data",
                    "data": {
                        "text/html": "Total execution time: 00:00:00.033"
                    },
                    "metadata": {}
                }
            ],
            "execution_count": 94
        },
        {
            "cell_type": "code",
            "source": [
                "INSERT INTO Meals (MealID, MealName, Cost, Station, CookTime, Lv)\r\n",
                "VALUES (93, 'Sakura Pudding', 32, 'Steamer', 3.6, 2);"
            ],
            "metadata": {
                "language": "sql",
                "azdata_cell_guid": "cac8a141-8942-47b8-91dd-08a340584b3d"
            },
            "outputs": [
                {
                    "output_type": "display_data",
                    "data": {
                        "text/html": "(1 row affected)"
                    },
                    "metadata": {}
                },
                {
                    "output_type": "display_data",
                    "data": {
                        "text/html": "Total execution time: 00:00:00.035"
                    },
                    "metadata": {}
                }
            ],
            "execution_count": 95
        },
        {
            "cell_type": "code",
            "source": [
                "INSERT INTO Meals (MealID, MealName, Cost, Station, CookTime, Lv)\r\n",
                "VALUES (94, 'Lion''s Head', 28, 'Boiling Pot', 4.2, 1);"
            ],
            "metadata": {
                "language": "sql",
                "azdata_cell_guid": "261f1c49-c777-403d-8ea2-73d2543077a9"
            },
            "outputs": [
                {
                    "output_type": "display_data",
                    "data": {
                        "text/html": "(1 row affected)"
                    },
                    "metadata": {}
                },
                {
                    "output_type": "display_data",
                    "data": {
                        "text/html": "Total execution time: 00:00:00.034"
                    },
                    "metadata": {}
                }
            ],
            "execution_count": 96
        },
        {
            "cell_type": "code",
            "source": [
                "INSERT INTO Meals (MealID, MealName, Cost, Station, CookTime, Lv)\r\n",
                "VALUES (95, 'Cheese Omelette', 26, 'Frying Pan', 3.6, 1);"
            ],
            "metadata": {
                "language": "sql",
                "azdata_cell_guid": "242cb897-9fc1-4f9a-bdf8-98d55ab55a11"
            },
            "outputs": [
                {
                    "output_type": "display_data",
                    "data": {
                        "text/html": "(1 row affected)"
                    },
                    "metadata": {}
                },
                {
                    "output_type": "display_data",
                    "data": {
                        "text/html": "Total execution time: 00:00:00.033"
                    },
                    "metadata": {}
                }
            ],
            "execution_count": 97
        },
        {
            "cell_type": "code",
            "source": [
                "INSERT INTO Meals (MealID, MealName, Cost, Station, CookTime, Lv)\r\n",
                "VALUES (96, 'Neko-manma', 26, 'Cutting Board', 3, 1);"
            ],
            "metadata": {
                "language": "sql",
                "azdata_cell_guid": "137349b3-1c25-4559-9e2d-711df10e4f6f"
            },
            "outputs": [
                {
                    "output_type": "display_data",
                    "data": {
                        "text/html": "(1 row affected)"
                    },
                    "metadata": {}
                },
                {
                    "output_type": "display_data",
                    "data": {
                        "text/html": "Total execution time: 00:00:00.033"
                    },
                    "metadata": {}
                }
            ],
            "execution_count": 98
        },
        {
            "cell_type": "code",
            "source": [
                "INSERT INTO Meals (MealID, MealName, Cost, Station, CookTime, Lv)\r\n",
                "VALUES (97, 'Ceiling-Longing Pie', 66, 'Steamer', 5.4, 2);"
            ],
            "metadata": {
                "language": "sql",
                "azdata_cell_guid": "41ef3f5d-fdeb-4043-9c55-0fc18522ceb5"
            },
            "outputs": [
                {
                    "output_type": "display_data",
                    "data": {
                        "text/html": "(1 row affected)"
                    },
                    "metadata": {}
                },
                {
                    "output_type": "display_data",
                    "data": {
                        "text/html": "Total execution time: 00:00:00.033"
                    },
                    "metadata": {}
                }
            ],
            "execution_count": 99
        },
        {
            "cell_type": "code",
            "source": [
                "INSERT INTO Meals (MealID, MealName, Cost, Station, CookTime, Lv)\r\n",
                "VALUES (98, 'Salmon Tempura', 44, 'Frying Pan', 4.8, 2);"
            ],
            "metadata": {
                "language": "sql",
                "azdata_cell_guid": "1dd0b600-7058-4023-b469-acc4f6a3edd8"
            },
            "outputs": [
                {
                    "output_type": "display_data",
                    "data": {
                        "text/html": "(1 row affected)"
                    },
                    "metadata": {}
                },
                {
                    "output_type": "display_data",
                    "data": {
                        "text/html": "Total execution time: 00:00:00.036"
                    },
                    "metadata": {}
                }
            ],
            "execution_count": 100
        },
        {
            "cell_type": "code",
            "source": [
                "INSERT INTO Meals (MealID, MealName, Cost, Station, CookTime, Lv)\r\n",
                "VALUES (99, 'Giant Tamagoyaki', 60, 'Frying Pan', 7.2, 2);"
            ],
            "metadata": {
                "language": "sql",
                "azdata_cell_guid": "ffad3c5d-1f25-4271-bfd7-74c1015d6749"
            },
            "outputs": [
                {
                    "output_type": "display_data",
                    "data": {
                        "text/html": "(1 row affected)"
                    },
                    "metadata": {}
                },
                {
                    "output_type": "display_data",
                    "data": {
                        "text/html": "Total execution time: 00:00:00.033"
                    },
                    "metadata": {}
                }
            ],
            "execution_count": 101
        },
        {
            "cell_type": "code",
            "source": [
                "INSERT INTO Meals (MealID, MealName, Cost, Station, CookTime, Lv)\r\n",
                "VALUES (100, 'Gloomy Fruit Pie', 36, 'Cutting Board', 4.8, 2);"
            ],
            "metadata": {
                "language": "sql",
                "azdata_cell_guid": "295e3bc4-f600-4de2-a346-036611053697"
            },
            "outputs": [
                {
                    "output_type": "display_data",
                    "data": {
                        "text/html": "(1 row affected)"
                    },
                    "metadata": {}
                },
                {
                    "output_type": "display_data",
                    "data": {
                        "text/html": "Total execution time: 00:00:00.033"
                    },
                    "metadata": {}
                }
            ],
            "execution_count": 102
        },
        {
            "cell_type": "code",
            "source": [
                "INSERT INTO Meals (MealID, MealName, Cost, Station, CookTime, Lv)\r\n",
                "VALUES (101, 'Energy Pudding', 42, 'Steamer', 4.8, 2);"
            ],
            "metadata": {
                "language": "sql",
                "azdata_cell_guid": "c79c7b7e-c0cc-4cf1-a47b-cd6460e02e94"
            },
            "outputs": [
                {
                    "output_type": "display_data",
                    "data": {
                        "text/html": "(1 row affected)"
                    },
                    "metadata": {}
                },
                {
                    "output_type": "display_data",
                    "data": {
                        "text/html": "Total execution time: 00:00:00.033"
                    },
                    "metadata": {}
                }
            ],
            "execution_count": 103
        },
        {
            "cell_type": "code",
            "source": [
                "INSERT INTO Meals (MealID, MealName, Cost, Station, CookTime, Lv)\r\n",
                "VALUES (102, 'Instant*Death', 62, 'Grill', 5.4, 3);"
            ],
            "metadata": {
                "language": "sql",
                "azdata_cell_guid": "feb6586d-1395-41e5-a43d-8946b6474a62"
            },
            "outputs": [
                {
                    "output_type": "display_data",
                    "data": {
                        "text/html": "(1 row affected)"
                    },
                    "metadata": {}
                },
                {
                    "output_type": "display_data",
                    "data": {
                        "text/html": "Total execution time: 00:00:00.035"
                    },
                    "metadata": {}
                }
            ],
            "execution_count": 104
        },
        {
            "cell_type": "code",
            "source": [
                "INSERT INTO Meals (MealID, MealName, Cost, Station, CookTime, Lv)\r\n",
                "VALUES (103, 'Dragon Carp', 142, 'Steamer', 7.2, 4);"
            ],
            "metadata": {
                "language": "sql",
                "azdata_cell_guid": "fda00739-b65d-442f-83dc-39ab856a90e2"
            },
            "outputs": [
                {
                    "output_type": "display_data",
                    "data": {
                        "text/html": "(1 row affected)"
                    },
                    "metadata": {}
                },
                {
                    "output_type": "display_data",
                    "data": {
                        "text/html": "Total execution time: 00:00:00.033"
                    },
                    "metadata": {}
                }
            ],
            "execution_count": 105
        },
        {
            "cell_type": "code",
            "source": [
                "INSERT INTO Meals (MealID, MealName, Cost, Station, CookTime, Lv)\r\n",
                "VALUES (104, 'Oedo Boat Feast', 206, 'Cutting Board', 14.4, 4);"
            ],
            "metadata": {
                "language": "sql",
                "azdata_cell_guid": "cc7bf789-e909-4595-bcb6-2fdb17b897e1"
            },
            "outputs": [
                {
                    "output_type": "display_data",
                    "data": {
                        "text/html": "(1 row affected)"
                    },
                    "metadata": {}
                },
                {
                    "output_type": "display_data",
                    "data": {
                        "text/html": "Total execution time: 00:00:00.035"
                    },
                    "metadata": {}
                }
            ],
            "execution_count": 106
        },
        {
            "cell_type": "code",
            "source": [
                "INSERT INTO Meals (MealID, MealName, Cost, Station, CookTime, Lv)\r\n",
                "VALUES (105, 'CAUTION!! Hellish Spice!', 108, 'Frying Pan', 7.2, 4);"
            ],
            "metadata": {
                "language": "sql",
                "azdata_cell_guid": "d680e5b4-ce28-4f3e-863f-42fc0e583ca4"
            },
            "outputs": [
                {
                    "output_type": "display_data",
                    "data": {
                        "text/html": "(1 row affected)"
                    },
                    "metadata": {}
                },
                {
                    "output_type": "display_data",
                    "data": {
                        "text/html": "Total execution time: 00:00:00.034"
                    },
                    "metadata": {}
                }
            ],
            "execution_count": 107
        },
        {
            "cell_type": "code",
            "source": [
                "INSERT INTO Meals (MealID, MealName, Cost, Station, CookTime, Lv)\r\n",
                "VALUES (106, 'Burn-out Pudding', 73, 'Steamer', 4.8, 4);"
            ],
            "metadata": {
                "language": "sql",
                "azdata_cell_guid": "12596a74-fb9a-4822-a371-9dd3d4ce3d33"
            },
            "outputs": [
                {
                    "output_type": "display_data",
                    "data": {
                        "text/html": "(1 row affected)"
                    },
                    "metadata": {}
                },
                {
                    "output_type": "display_data",
                    "data": {
                        "text/html": "Total execution time: 00:00:00.034"
                    },
                    "metadata": {}
                }
            ],
            "execution_count": 108
        },
        {
            "cell_type": "code",
            "source": [
                "INSERT INTO Meals (MealID, MealName, Cost, Station, CookTime, Lv)\r\n",
                "VALUES (107, 'Kabuto Steamed Cake', 105, 'Steamer', 7.2, 3);"
            ],
            "metadata": {
                "language": "sql",
                "azdata_cell_guid": "2be89f3d-b886-42fb-a077-d34639b09972"
            },
            "outputs": [
                {
                    "output_type": "display_data",
                    "data": {
                        "text/html": "(1 row affected)"
                    },
                    "metadata": {}
                },
                {
                    "output_type": "display_data",
                    "data": {
                        "text/html": "Total execution time: 00:00:00.034"
                    },
                    "metadata": {}
                }
            ],
            "execution_count": 109
        },
        {
            "cell_type": "code",
            "source": [
                "INSERT INTO Meals (MealID, MealName, Cost, Station, CookTime, Lv)\r\n",
                "VALUES (108, 'Agony Oden', 92, 'Boiling Pot', 7.2, 4);"
            ],
            "metadata": {
                "language": "sql",
                "azdata_cell_guid": "ce21e0ce-d920-4ae3-9c11-35a9125d232b"
            },
            "outputs": [
                {
                    "output_type": "display_data",
                    "data": {
                        "text/html": "(1 row affected)"
                    },
                    "metadata": {}
                },
                {
                    "output_type": "display_data",
                    "data": {
                        "text/html": "Total execution time: 00:00:00.092"
                    },
                    "metadata": {}
                }
            ],
            "execution_count": 110
        },
        {
            "cell_type": "code",
            "source": [
                "INSERT INTO Meals (MealID, MealName, Cost, Station, CookTime, Lv)\r\n",
                "VALUES (109, 'Biscay Biscuits', 26, 'Grill', 3, 1);"
            ],
            "metadata": {
                "language": "sql",
                "azdata_cell_guid": "7393759a-6d53-482d-a4bc-1a9291924df2"
            },
            "outputs": [
                {
                    "output_type": "display_data",
                    "data": {
                        "text/html": "(1 row affected)"
                    },
                    "metadata": {}
                },
                {
                    "output_type": "display_data",
                    "data": {
                        "text/html": "Total execution time: 00:00:00.037"
                    },
                    "metadata": {}
                }
            ],
            "execution_count": 111
        },
        {
            "cell_type": "code",
            "source": [
                "INSERT INTO Meals (MealID, MealName, Cost, Station, CookTime, Lv)\r\n",
                "VALUES (110, 'Unzan Cotton Candy', 20, 'Frying Pan', 4.8, 1);"
            ],
            "metadata": {
                "language": "sql",
                "azdata_cell_guid": "df5809cc-6ef9-400c-81fb-1769495b54cf"
            },
            "outputs": [
                {
                    "output_type": "display_data",
                    "data": {
                        "text/html": "(1 row affected)"
                    },
                    "metadata": {}
                },
                {
                    "output_type": "display_data",
                    "data": {
                        "text/html": "Total execution time: 00:00:00.033"
                    },
                    "metadata": {}
                }
            ],
            "execution_count": 112
        },
        {
            "cell_type": "code",
            "source": [
                "INSERT INTO Meals (MealID, MealName, Cost, Station, CookTime, Lv)\r\n",
                "VALUES (111, 'Baked Sweet Potato', 25, 'Grill', 3.6, 1);"
            ],
            "metadata": {
                "language": "sql",
                "azdata_cell_guid": "b3758285-a7fd-4e0c-8639-636a203eea2d"
            },
            "outputs": [
                {
                    "output_type": "display_data",
                    "data": {
                        "text/html": "(1 row affected)"
                    },
                    "metadata": {}
                },
                {
                    "output_type": "display_data",
                    "data": {
                        "text/html": "Total execution time: 00:00:00.033"
                    },
                    "metadata": {}
                }
            ],
            "execution_count": 113
        },
        {
            "cell_type": "code",
            "source": [
                "INSERT INTO Meals (MealID, MealName, Cost, Station, CookTime, Lv)\r\n",
                "VALUES (112, 'Honeyed Chestnut', 30, 'Cutting Board', 3.6, 1);"
            ],
            "metadata": {
                "language": "sql",
                "azdata_cell_guid": "899508b3-b724-4b08-bb90-c3be5b498dc2"
            },
            "outputs": [
                {
                    "output_type": "display_data",
                    "data": {
                        "text/html": "(1 row affected)"
                    },
                    "metadata": {}
                },
                {
                    "output_type": "display_data",
                    "data": {
                        "text/html": "Total execution time: 00:00:00.033"
                    },
                    "metadata": {}
                }
            ],
            "execution_count": 114
        },
        {
            "cell_type": "code",
            "source": [
                "INSERT INTO Meals (MealID, MealName, Cost, Station, CookTime, Lv)\r\n",
                "VALUES (113, 'Candied Sweet Potato', 30, 'Frying Pan', 3.6, 1);"
            ],
            "metadata": {
                "language": "sql",
                "azdata_cell_guid": "254892cd-42fd-4c10-9ce1-1cb0f0e9b6a1"
            },
            "outputs": [
                {
                    "output_type": "display_data",
                    "data": {
                        "text/html": "(1 row affected)"
                    },
                    "metadata": {}
                },
                {
                    "output_type": "display_data",
                    "data": {
                        "text/html": "Total execution time: 00:00:00.034"
                    },
                    "metadata": {}
                }
            ],
            "execution_count": 115
        },
        {
            "cell_type": "code",
            "source": [
                "INSERT INTO Meals (MealID, MealName, Cost, Station, CookTime, Lv)\r\n",
                "VALUES (114, 'Pine Nut Cake', 46, 'Steamer', 4.8, 2);"
            ],
            "metadata": {
                "language": "sql",
                "azdata_cell_guid": "7f9f3b53-c613-47ae-a3e6-c0c062559c00"
            },
            "outputs": [
                {
                    "output_type": "display_data",
                    "data": {
                        "text/html": "(1 row affected)"
                    },
                    "metadata": {}
                },
                {
                    "output_type": "display_data",
                    "data": {
                        "text/html": "Total execution time: 00:00:00.034"
                    },
                    "metadata": {}
                }
            ],
            "execution_count": 116
        },
        {
            "cell_type": "code",
            "source": [
                "INSERT INTO Meals (MealID, MealName, Cost, Station, CookTime, Lv)\r\n",
                "VALUES (115, 'Pure White Lotus', 56, 'Steamer', 6, 2);"
            ],
            "metadata": {
                "language": "sql",
                "azdata_cell_guid": "868b6957-7ca2-483a-9b8f-4ef79ab93f13"
            },
            "outputs": [
                {
                    "output_type": "display_data",
                    "data": {
                        "text/html": "(1 row affected)"
                    },
                    "metadata": {}
                },
                {
                    "output_type": "display_data",
                    "data": {
                        "text/html": "Total execution time: 00:00:00.033"
                    },
                    "metadata": {}
                }
            ],
            "execution_count": 117
        },
        {
            "cell_type": "code",
            "source": [
                "INSERT INTO Meals (MealID, MealName, Cost, Station, CookTime, Lv)\r\n",
                "VALUES (116, 'Smoked Buccaneer', 58, 'Grill', 5.4, 2);"
            ],
            "metadata": {
                "language": "sql",
                "azdata_cell_guid": "9a31c04c-5a1d-47db-b689-022e9850777b"
            },
            "outputs": [
                {
                    "output_type": "display_data",
                    "data": {
                        "text/html": "(1 row affected)"
                    },
                    "metadata": {}
                },
                {
                    "output_type": "display_data",
                    "data": {
                        "text/html": "Total execution time: 00:00:00.033"
                    },
                    "metadata": {}
                }
            ],
            "execution_count": 118
        },
        {
            "cell_type": "code",
            "source": [
                "INSERT INTO Meals (MealID, MealName, Cost, Station, CookTime, Lv)\r\n",
                "VALUES (117, 'Yashouma Dango', 45, 'Cutting Board', 5.4, 2);"
            ],
            "metadata": {
                "language": "sql",
                "azdata_cell_guid": "d9063636-df9b-416e-a50f-e72948772cb6"
            },
            "outputs": [
                {
                    "output_type": "display_data",
                    "data": {
                        "text/html": "(1 row affected)"
                    },
                    "metadata": {}
                },
                {
                    "output_type": "display_data",
                    "data": {
                        "text/html": "Total execution time: 00:00:00.033"
                    },
                    "metadata": {}
                }
            ],
            "execution_count": 119
        },
        {
            "cell_type": "code",
            "source": [
                "INSERT INTO Meals (MealID, MealName, Cost, Station, CookTime, Lv)\r\n",
                "VALUES (118, 'Star Lotus Ship', 132, 'Cutting Board', 7.8, 4);"
            ],
            "metadata": {
                "language": "sql",
                "azdata_cell_guid": "1dae5972-0b18-4a83-b4b6-7a52aa83019c"
            },
            "outputs": [
                {
                    "output_type": "display_data",
                    "data": {
                        "text/html": "(1 row affected)"
                    },
                    "metadata": {}
                },
                {
                    "output_type": "display_data",
                    "data": {
                        "text/html": "Total execution time: 00:00:00.033"
                    },
                    "metadata": {}
                }
            ],
            "execution_count": 120
        },
        {
            "cell_type": "code",
            "source": [
                "INSERT INTO Meals (MealID, MealName, Cost, Station, CookTime, Lv)\r\n",
                "VALUES (119, 'Buddha''s Delight', 97, 'Boiling Pot', 7.2, 4);"
            ],
            "metadata": {
                "language": "sql",
                "azdata_cell_guid": "85fd8ab3-16ac-429d-9e51-aa5b92ddd5a3"
            },
            "outputs": [
                {
                    "output_type": "display_data",
                    "data": {
                        "text/html": "(1 row affected)"
                    },
                    "metadata": {}
                },
                {
                    "output_type": "display_data",
                    "data": {
                        "text/html": "Total execution time: 00:00:00.033"
                    },
                    "metadata": {}
                }
            ],
            "execution_count": 121
        },
        {
            "cell_type": "code",
            "source": [
                "INSERT INTO Meals (MealID, MealName, Cost, Station, CookTime, Lv)\r\n",
                "VALUES (120, 'Heart-Throbbing Surprise!', 90, 'Steamer', 7.2, 4);"
            ],
            "metadata": {
                "language": "sql",
                "azdata_cell_guid": "33333217-b958-4095-9986-cf102b556af8"
            },
            "outputs": [
                {
                    "output_type": "display_data",
                    "data": {
                        "text/html": "(1 row affected)"
                    },
                    "metadata": {}
                },
                {
                    "output_type": "display_data",
                    "data": {
                        "text/html": "Total execution time: 00:00:00.033"
                    },
                    "metadata": {}
                }
            ],
            "execution_count": 122
        },
        {
            "cell_type": "code",
            "source": [
                "INSERT INTO Meals (MealID, MealName, Cost, Station, CookTime, Lv)\r\n",
                "VALUES (121, 'Tianshi''s Stewed Mushrooms', 55, 'Boiling Pot', 4.8, 2);"
            ],
            "metadata": {
                "language": "sql",
                "azdata_cell_guid": "f17bb498-c2a5-477c-bcd6-05f6a8f506f2"
            },
            "outputs": [
                {
                    "output_type": "display_data",
                    "data": {
                        "text/html": "(1 row affected)"
                    },
                    "metadata": {}
                },
                {
                    "output_type": "display_data",
                    "data": {
                        "text/html": "Total execution time: 00:00:00.036"
                    },
                    "metadata": {}
                }
            ],
            "execution_count": 123
        },
        {
            "cell_type": "code",
            "source": [
                "INSERT INTO Meals (MealID, MealName, Cost, Station, CookTime, Lv)\r\n",
                "VALUES (122, 'Golden Two-Shroom Wrap', 63, 'Frying Pan', 5.4, 3);"
            ],
            "metadata": {
                "language": "sql",
                "azdata_cell_guid": "773ae1ce-d228-46f9-8ee2-46e2dedec377"
            },
            "outputs": [
                {
                    "output_type": "display_data",
                    "data": {
                        "text/html": "(1 row affected)"
                    },
                    "metadata": {}
                },
                {
                    "output_type": "display_data",
                    "data": {
                        "text/html": "Total execution time: 00:00:00.204"
                    },
                    "metadata": {}
                }
            ],
            "execution_count": 124
        },
        {
            "cell_type": "code",
            "source": [
                "INSERT INTO Meals (MealID, MealName, Cost, Station, CookTime, Lv)\r\n",
                "VALUES (123, 'White Deer, Unyielding Pine', 72, 'Steamer', 7.2, 3);"
            ],
            "metadata": {
                "language": "sql",
                "azdata_cell_guid": "35a68ab5-e8cd-423a-a41a-454b41fe45cd"
            },
            "outputs": [
                {
                    "output_type": "display_data",
                    "data": {
                        "text/html": "(1 row affected)"
                    },
                    "metadata": {}
                },
                {
                    "output_type": "display_data",
                    "data": {
                        "text/html": "Total execution time: 00:00:00.034"
                    },
                    "metadata": {}
                }
            ],
            "execution_count": 125
        },
        {
            "cell_type": "code",
            "source": [
                "INSERT INTO Meals (MealID, MealName, Cost, Station, CookTime, Lv)\r\n",
                "VALUES (124, 'Lotus Fish Lamps', 94, 'Steamer', 6.6, 4);"
            ],
            "metadata": {
                "language": "sql",
                "azdata_cell_guid": "8bbed403-6b27-4cfd-b3a3-b859126740eb"
            },
            "outputs": [
                {
                    "output_type": "display_data",
                    "data": {
                        "text/html": "(1 row affected)"
                    },
                    "metadata": {}
                },
                {
                    "output_type": "display_data",
                    "data": {
                        "text/html": "Total execution time: 00:00:00.034"
                    },
                    "metadata": {}
                }
            ],
            "execution_count": 126
        },
        {
            "cell_type": "code",
            "source": [
                "INSERT INTO Meals (MealID, MealName, Cost, Station, CookTime, Lv)\r\n",
                "VALUES (125, 'Tempura Platter', 72, 'Frying Pan', 4.2, 3);"
            ],
            "metadata": {
                "language": "sql",
                "azdata_cell_guid": "57bf5bb5-7eb2-48d3-b224-60ffdcd83db0"
            },
            "outputs": [
                {
                    "output_type": "display_data",
                    "data": {
                        "text/html": "(1 row affected)"
                    },
                    "metadata": {}
                },
                {
                    "output_type": "display_data",
                    "data": {
                        "text/html": "Total execution time: 00:00:00.034"
                    },
                    "metadata": {}
                }
            ],
            "execution_count": 127
        },
        {
            "cell_type": "code",
            "source": [
                "INSERT INTO Meals (MealID, MealName, Cost, Station, CookTime, Lv)\r\n",
                "VALUES (126, 'Eight Trigram Fish Maws', 126, 'Boiling Pot', 8.4, 4);"
            ],
            "metadata": {
                "language": "sql",
                "azdata_cell_guid": "badc9550-4664-4845-886c-e6660d158410"
            },
            "outputs": [
                {
                    "output_type": "display_data",
                    "data": {
                        "text/html": "(1 row affected)"
                    },
                    "metadata": {}
                },
                {
                    "output_type": "display_data",
                    "data": {
                        "text/html": "Total execution time: 00:00:00.033"
                    },
                    "metadata": {}
                }
            ],
            "execution_count": 128
        },
        {
            "cell_type": "code",
            "source": [
                "INSERT INTO Meals (MealID, MealName, Cost, Station, CookTime, Lv)\r\n",
                "VALUES (127, 'Bamboo Meat Pot', 42, 'Boiling Pot', 4.2, 3);"
            ],
            "metadata": {
                "language": "sql",
                "azdata_cell_guid": "459a1335-61b9-4e61-b06b-b86e2bf55782"
            },
            "outputs": [
                {
                    "output_type": "display_data",
                    "data": {
                        "text/html": "(1 row affected)"
                    },
                    "metadata": {}
                },
                {
                    "output_type": "display_data",
                    "data": {
                        "text/html": "Total execution time: 00:00:00.034"
                    },
                    "metadata": {}
                }
            ],
            "execution_count": 129
        },
        {
            "cell_type": "code",
            "source": [
                "INSERT INTO Meals (MealID, MealName, Cost, Station, CookTime, Lv)\r\n",
                "VALUES (128, 'Tomato Fries', 26, 'Frying Pan', 3.6, 1);"
            ],
            "metadata": {
                "language": "sql",
                "azdata_cell_guid": "988dab1e-840f-43c1-9c5f-69b3113af4e7"
            },
            "outputs": [
                {
                    "output_type": "display_data",
                    "data": {
                        "text/html": "(1 row affected)"
                    },
                    "metadata": {}
                },
                {
                    "output_type": "display_data",
                    "data": {
                        "text/html": "Total execution time: 00:00:00.033"
                    },
                    "metadata": {}
                }
            ],
            "execution_count": 130
        },
        {
            "cell_type": "code",
            "source": [
                "INSERT INTO Meals (MealID, MealName, Cost, Station, CookTime, Lv)\r\n",
                "VALUES (129, 'Red Bean Daifuku', 28, 'Cutting Board', 4.2, 2);"
            ],
            "metadata": {
                "language": "sql",
                "azdata_cell_guid": "34b6c130-c9ab-40d9-9990-b213594b10aa"
            },
            "outputs": [
                {
                    "output_type": "display_data",
                    "data": {
                        "text/html": "(1 row affected)"
                    },
                    "metadata": {}
                },
                {
                    "output_type": "display_data",
                    "data": {
                        "text/html": "Total execution time: 00:00:00.035"
                    },
                    "metadata": {}
                }
            ],
            "execution_count": 131
        },
        {
            "cell_type": "code",
            "source": [
                "INSERT INTO Meals (MealID, MealName, Cost, Station, CookTime, Lv)\r\n",
                "VALUES (130, 'Plum Tea Rice', 32, 'Boiling Pot', 2.4, 1);"
            ],
            "metadata": {
                "language": "sql",
                "azdata_cell_guid": "b9fec370-0838-4326-8c16-866f0123afdf"
            },
            "outputs": [
                {
                    "output_type": "display_data",
                    "data": {
                        "text/html": "(1 row affected)"
                    },
                    "metadata": {}
                },
                {
                    "output_type": "display_data",
                    "data": {
                        "text/html": "Total execution time: 00:00:00.034"
                    },
                    "metadata": {}
                }
            ],
            "execution_count": 132
        },
        {
            "cell_type": "code",
            "source": [
                "INSERT INTO Meals (MealID, MealName, Cost, Station, CookTime, Lv)\r\n",
                "VALUES (131, 'Mushroom Herb Road', 24, 'Boiling Pot', 3.6, 1);"
            ],
            "metadata": {
                "language": "sql",
                "azdata_cell_guid": "6e638468-09d1-46c1-9d71-01c0c822254f"
            },
            "outputs": [
                {
                    "output_type": "display_data",
                    "data": {
                        "text/html": "(1 row affected)"
                    },
                    "metadata": {}
                },
                {
                    "output_type": "display_data",
                    "data": {
                        "text/html": "Total execution time: 00:00:00.034"
                    },
                    "metadata": {}
                }
            ],
            "execution_count": 133
        },
        {
            "cell_type": "code",
            "source": [
                "INSERT INTO Meals (MealID, MealName, Cost, Station, CookTime, Lv)\r\n",
                "VALUES (132, 'Toon Pancake', 30, 'Frying Pan', 3.6, 1);"
            ],
            "metadata": {
                "language": "sql",
                "azdata_cell_guid": "f46933b4-e164-45fd-b670-087c806937ec"
            },
            "outputs": [
                {
                    "output_type": "display_data",
                    "data": {
                        "text/html": "(1 row affected)"
                    },
                    "metadata": {}
                },
                {
                    "output_type": "display_data",
                    "data": {
                        "text/html": "Total execution time: 00:00:00.034"
                    },
                    "metadata": {}
                }
            ],
            "execution_count": 134
        },
        {
            "cell_type": "code",
            "source": [
                "INSERT INTO Meals (MealID, MealName, Cost, Station, CookTime, Lv)\r\n",
                "VALUES (133, 'Rice Powder Meat', 72, 'Steamer', 5.4, 3);"
            ],
            "metadata": {
                "language": "sql",
                "azdata_cell_guid": "eae81517-1661-4d32-b2c9-1199a5a2533a"
            },
            "outputs": [
                {
                    "output_type": "display_data",
                    "data": {
                        "text/html": "(1 row affected)"
                    },
                    "metadata": {}
                },
                {
                    "output_type": "display_data",
                    "data": {
                        "text/html": "Total execution time: 00:00:00.032"
                    },
                    "metadata": {}
                }
            ],
            "execution_count": 135
        },
        {
            "cell_type": "code",
            "source": [
                "INSERT INTO Meals (MealID, MealName, Cost, Station, CookTime, Lv)\r\n",
                "VALUES (134, 'Urchin Steamed Egg', 112, 'Steamer', 4.2, 3);"
            ],
            "metadata": {
                "language": "sql",
                "azdata_cell_guid": "0bd3b577-47c4-43ae-84cf-79b6082c6930"
            },
            "outputs": [
                {
                    "output_type": "display_data",
                    "data": {
                        "text/html": "(1 row affected)"
                    },
                    "metadata": {}
                },
                {
                    "output_type": "display_data",
                    "data": {
                        "text/html": "Total execution time: 00:00:00.033"
                    },
                    "metadata": {}
                }
            ],
            "execution_count": 136
        },
        {
            "cell_type": "code",
            "source": [
                "INSERT INTO Meals (MealID, MealName, Cost, Station, CookTime, Lv)\r\n",
                "VALUES (135, 'Bamboo Spring', 99, 'Steamer', 8.4, 4);"
            ],
            "metadata": {
                "language": "sql",
                "azdata_cell_guid": "25fb4ebc-e19e-4e71-81cc-13d69580a291"
            },
            "outputs": [
                {
                    "output_type": "display_data",
                    "data": {
                        "text/html": "(1 row affected)"
                    },
                    "metadata": {}
                },
                {
                    "output_type": "display_data",
                    "data": {
                        "text/html": "Total execution time: 00:00:00.033"
                    },
                    "metadata": {}
                }
            ],
            "execution_count": 137
        },
        {
            "cell_type": "code",
            "source": [
                "INSERT INTO Meals (MealID, MealName, Cost, Station, CookTime, Lv)\r\n",
                "VALUES (136, 'Scrumptious Storm', 185, 'Grill', 10.8, 5);"
            ],
            "metadata": {
                "language": "sql",
                "azdata_cell_guid": "4631f324-3898-46ad-82f0-6e4755dbf30e"
            },
            "outputs": [
                {
                    "output_type": "display_data",
                    "data": {
                        "text/html": "(1 row affected)"
                    },
                    "metadata": {}
                },
                {
                    "output_type": "display_data",
                    "data": {
                        "text/html": "Total execution time: 00:00:00.032"
                    },
                    "metadata": {}
                }
            ],
            "execution_count": 138
        },
        {
            "cell_type": "code",
            "source": [
                "INSERT INTO Meals (MealID, MealName, Cost, Station, CookTime, Lv)\r\n",
                "VALUES (137, 'Nature''s Beauty', 78, 'Steamer', 5.4, 3);"
            ],
            "metadata": {
                "language": "sql",
                "azdata_cell_guid": "d8df1364-5a03-4f41-8984-94a7d1cd3a01"
            },
            "outputs": [
                {
                    "output_type": "display_data",
                    "data": {
                        "text/html": "(1 row affected)"
                    },
                    "metadata": {}
                },
                {
                    "output_type": "display_data",
                    "data": {
                        "text/html": "Total execution time: 00:00:00.033"
                    },
                    "metadata": {}
                }
            ],
            "execution_count": 139
        },
        {
            "cell_type": "code",
            "source": [
                "INSERT INTO Meals (MealID, MealName, Cost, Station, CookTime, Lv)\r\n",
                "VALUES (138, 'Miasma Garden', 58, 'Boiling Pot', 4.8, 3);"
            ],
            "metadata": {
                "language": "sql",
                "azdata_cell_guid": "1cabd451-1923-4df2-91da-35f9fdb91d33"
            },
            "outputs": [
                {
                    "output_type": "display_data",
                    "data": {
                        "text/html": "(1 row affected)"
                    },
                    "metadata": {}
                },
                {
                    "output_type": "display_data",
                    "data": {
                        "text/html": "Total execution time: 00:00:00.035"
                    },
                    "metadata": {}
                }
            ],
            "execution_count": 140
        },
        {
            "cell_type": "code",
            "source": [
                "INSERT INTO Meals (MealID, MealName, Cost, Station, CookTime, Lv)\r\n",
                "VALUES (139, 'Little Sweet \"Poison\"', 87, 'Steamer', 6, 3);"
            ],
            "metadata": {
                "language": "sql",
                "azdata_cell_guid": "743269bb-e748-4980-a21a-54a634e9909b"
            },
            "outputs": [
                {
                    "output_type": "display_data",
                    "data": {
                        "text/html": "(1 row affected)"
                    },
                    "metadata": {}
                },
                {
                    "output_type": "display_data",
                    "data": {
                        "text/html": "Total execution time: 00:00:00.034"
                    },
                    "metadata": {}
                }
            ],
            "execution_count": 141
        },
        {
            "cell_type": "code",
            "source": [
                "INSERT INTO Meals (MealID, MealName, Cost, Station, CookTime, Lv)\r\n",
                "VALUES (140, 'Faint Dream', 133, 'Steamer', 7.2, 4);"
            ],
            "metadata": {
                "language": "sql",
                "azdata_cell_guid": "dcf4ca89-9aac-466c-8e97-74e0d93e6eb9"
            },
            "outputs": [
                {
                    "output_type": "display_data",
                    "data": {
                        "text/html": "(1 row affected)"
                    },
                    "metadata": {}
                },
                {
                    "output_type": "display_data",
                    "data": {
                        "text/html": "Total execution time: 00:00:00.041"
                    },
                    "metadata": {}
                }
            ],
            "execution_count": 142
        },
        {
            "cell_type": "code",
            "source": [
                "INSERT INTO Meals (MealID, MealName, Cost, Station, CookTime, Lv)\r\n",
                "VALUES (141, 'Peach Braised Pork', 42, 'Frying Pan', 4.8, 2);"
            ],
            "metadata": {
                "language": "sql",
                "azdata_cell_guid": "06c5387f-1ac7-4a8a-9c20-1f1563a3e921"
            },
            "outputs": [
                {
                    "output_type": "display_data",
                    "data": {
                        "text/html": "(1 row affected)"
                    },
                    "metadata": {}
                },
                {
                    "output_type": "display_data",
                    "data": {
                        "text/html": "Total execution time: 00:00:00.032"
                    },
                    "metadata": {}
                }
            ],
            "execution_count": 143
        },
        {
            "cell_type": "code",
            "source": [
                "INSERT INTO Meals (MealID, MealName, Cost, Station, CookTime, Lv)\r\n",
                "VALUES (142, 'Dorayaki', 40, 'Frying Pan', 3.6, 2);"
            ],
            "metadata": {
                "language": "sql",
                "azdata_cell_guid": "c6864648-8aa4-42df-b3c1-36851edaae83"
            },
            "outputs": [
                {
                    "output_type": "display_data",
                    "data": {
                        "text/html": "(1 row affected)"
                    },
                    "metadata": {}
                },
                {
                    "output_type": "display_data",
                    "data": {
                        "text/html": "Total execution time: 00:00:00.034"
                    },
                    "metadata": {}
                }
            ],
            "execution_count": 144
        },
        {
            "cell_type": "code",
            "source": [
                "INSERT INTO Meals (MealID, MealName, Cost, Station, CookTime, Lv)\r\n",
                "VALUES (143, 'Palace of the Han', 115, 'Boiling Pot', 7.2, 4);"
            ],
            "metadata": {
                "language": "sql",
                "azdata_cell_guid": "1f933061-7c56-43bc-8f34-8d2687b5105b"
            },
            "outputs": [
                {
                    "output_type": "display_data",
                    "data": {
                        "text/html": "(1 row affected)"
                    },
                    "metadata": {}
                },
                {
                    "output_type": "display_data",
                    "data": {
                        "text/html": "Total execution time: 00:00:00.033"
                    },
                    "metadata": {}
                }
            ],
            "execution_count": 145
        },
        {
            "cell_type": "code",
            "source": [
                "INSERT INTO Meals (MealID, MealName, Cost, Station, CookTime, Lv)\r\n",
                "VALUES (144, 'Against The World!', 124, 'Cutting Board', 7.2, 4);"
            ],
            "metadata": {
                "language": "sql",
                "azdata_cell_guid": "2355991f-6f3b-4478-a23a-aefcf6ac4c40"
            },
            "outputs": [
                {
                    "output_type": "display_data",
                    "data": {
                        "text/html": "(1 row affected)"
                    },
                    "metadata": {}
                },
                {
                    "output_type": "display_data",
                    "data": {
                        "text/html": "Total execution time: 00:00:00.033"
                    },
                    "metadata": {}
                }
            ],
            "execution_count": 146
        },
        {
            "cell_type": "code",
            "source": [
                "INSERT INTO Meals (MealID, MealName, Cost, Station, CookTime, Lv)\r\n",
                "VALUES (145, 'Heart-Warming Porridge', 35, 'Boiling Pot', 3, 1);"
            ],
            "metadata": {
                "language": "sql",
                "azdata_cell_guid": "faf2dcea-e1e5-4263-88e8-c20ea4abf54d"
            },
            "outputs": [
                {
                    "output_type": "display_data",
                    "data": {
                        "text/html": "(1 row affected)"
                    },
                    "metadata": {}
                },
                {
                    "output_type": "display_data",
                    "data": {
                        "text/html": "Total execution time: 00:00:00.033"
                    },
                    "metadata": {}
                }
            ],
            "execution_count": 147
        },
        {
            "cell_type": "code",
            "source": [
                "INSERT INTO Meals (MealID, MealName, Cost, Station, CookTime, Lv)\r\n",
                "VALUES (146, 'Molecular Egg', 80, 'Cutting Board', 4.2, 3);"
            ],
            "metadata": {
                "language": "sql",
                "azdata_cell_guid": "0447945b-ec95-4f8b-91f5-138269917bc6"
            },
            "outputs": [
                {
                    "output_type": "display_data",
                    "data": {
                        "text/html": "(1 row affected)"
                    },
                    "metadata": {}
                },
                {
                    "output_type": "display_data",
                    "data": {
                        "text/html": "Total execution time: 00:00:00.032"
                    },
                    "metadata": {}
                }
            ],
            "execution_count": 148
        },
        {
            "cell_type": "code",
            "source": [
                "INSERT INTO Meals (MealID, MealName, Cost, Station, CookTime, Lv)\r\n",
                "VALUES (147, 'Peach Flower Crystal Roll', 60, 'Steamer', 4.8, 3);"
            ],
            "metadata": {
                "language": "sql",
                "azdata_cell_guid": "c9a3f85a-cb71-4aec-9080-b2f6f2852e09"
            },
            "outputs": [
                {
                    "output_type": "display_data",
                    "data": {
                        "text/html": "(1 row affected)"
                    },
                    "metadata": {}
                },
                {
                    "output_type": "display_data",
                    "data": {
                        "text/html": "Total execution time: 00:00:00.037"
                    },
                    "metadata": {}
                }
            ],
            "execution_count": 149
        },
        {
            "cell_type": "code",
            "source": [
                "INSERT INTO Meals (MealID, MealName, Cost, Station, CookTime, Lv)\r\n",
                "VALUES (148, 'Kitten Canele', 45, 'Grill', 4.2, 2);"
            ],
            "metadata": {
                "language": "sql",
                "azdata_cell_guid": "3ac11817-46e4-4699-8ab6-8ff8af550e51"
            },
            "outputs": [
                {
                    "output_type": "display_data",
                    "data": {
                        "text/html": "(1 row affected)"
                    },
                    "metadata": {}
                },
                {
                    "output_type": "display_data",
                    "data": {
                        "text/html": "Total execution time: 00:00:00.033"
                    },
                    "metadata": {}
                }
            ],
            "execution_count": 150
        },
        {
            "cell_type": "code",
            "source": [
                "INSERT INTO Meals (MealID, MealName, Cost, Station, CookTime, Lv)\r\n",
                "VALUES (149, 'Eel Bowl with Egg', 45, 'Frying Pan', 3, 2);"
            ],
            "metadata": {
                "language": "sql",
                "azdata_cell_guid": "47efe386-1e93-4e2c-a977-3296a78bb6b2"
            },
            "outputs": [
                {
                    "output_type": "display_data",
                    "data": {
                        "text/html": "(1 row affected)"
                    },
                    "metadata": {}
                },
                {
                    "output_type": "display_data",
                    "data": {
                        "text/html": "Total execution time: 00:00:00.035"
                    },
                    "metadata": {}
                }
            ],
            "execution_count": 151
        },
        {
            "cell_type": "code",
            "source": [
                "INSERT INTO Meals (MealID, MealName, Cost, Station, CookTime, Lv)\r\n",
                "VALUES (150, 'Long Hair Princess', 36, 'Steamer', 3, 2);"
            ],
            "metadata": {
                "language": "sql",
                "azdata_cell_guid": "9ef459fb-6205-4e65-98fb-c9e67f08f0b5"
            },
            "outputs": [
                {
                    "output_type": "display_data",
                    "data": {
                        "text/html": "(1 row affected)"
                    },
                    "metadata": {}
                },
                {
                    "output_type": "display_data",
                    "data": {
                        "text/html": "Total execution time: 00:00:00.033"
                    },
                    "metadata": {}
                }
            ],
            "execution_count": 152
        }
    ]
}