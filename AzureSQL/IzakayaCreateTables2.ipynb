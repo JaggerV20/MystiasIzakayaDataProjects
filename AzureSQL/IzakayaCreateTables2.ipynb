{
    "metadata": {
        "kernelspec": {
            "name": "SQL",
            "display_name": "SQL",
            "language": "sql"
        },
        "language_info": {
            "name": "sql",
            "version": ""
        }
    },
    "nbformat_minor": 2,
    "nbformat": 4,
    "cells": [
        {
            "cell_type": "markdown",
            "source": [
                "Creating tables"
            ],
            "metadata": {
                "azdata_cell_guid": "4cc57c48-5b4e-4948-b523-c3da93b682ba"
            },
            "attachments": {}
        },
        {
            "cell_type": "code",
            "source": [
                "CREATE TABLE Days (\r\n",
                "    DayIndex int PRIMARY KEY,\r\n",
                "    MoneyEarned int NOT NULL,\r\n",
                "    Tips int NOT NULL,\r\n",
                "    MoneySpent int NOT NULL,\r\n",
                "    Location varchar(255) NOT NULL,\r\n",
                "    IzakayaSize int NOT NULL\r\n",
                ");"
            ],
            "metadata": {
                "azdata_cell_guid": "2b0b6df4-8518-4265-8dc6-2eaca26f9143",
                "language": "sql"
            },
            "outputs": [
                {
                    "output_type": "display_data",
                    "data": {
                        "text/html": "Commands completed successfully."
                    },
                    "metadata": {}
                },
                {
                    "output_type": "display_data",
                    "data": {
                        "text/html": "Total execution time: 00:00:00.058"
                    },
                    "metadata": {}
                }
            ],
            "execution_count": 2
        },
        {
            "cell_type": "code",
            "source": [
                "CREATE TABLE Meals (\r\n",
                "    MealID int PRIMARY KEY,\r\n",
                "    MealName varchar(255) NOT NULL,\r\n",
                "    Cost int NOT NULL,\r\n",
                "    Station varchar(255) NOT NULL,\r\n",
                "    CookTime float NOT NULL,\r\n",
                "    Lv int NOT NULL\r\n",
                ");"
            ],
            "metadata": {
                "language": "sql",
                "azdata_cell_guid": "88eff727-5c7f-4b6f-8a3c-6b3069599069"
            },
            "outputs": [
                {
                    "output_type": "display_data",
                    "data": {
                        "text/html": "Commands completed successfully."
                    },
                    "metadata": {}
                },
                {
                    "output_type": "display_data",
                    "data": {
                        "text/html": "Total execution time: 00:00:00.022"
                    },
                    "metadata": {}
                }
            ],
            "execution_count": 3
        },
        {
            "cell_type": "code",
            "source": [
                "CREATE TABLE MealTags (\r\n",
                "    MealID int FOREIGN KEY REFERENCES Meals(MealID),\r\n",
                "    MealTag varchar(255) NOT NULL\r\n",
                ");"
            ],
            "metadata": {
                "language": "sql",
                "azdata_cell_guid": "b7cd0075-50a6-4f12-99c8-0d2cd55dce19"
            },
            "outputs": [
                {
                    "output_type": "display_data",
                    "data": {
                        "text/html": "Commands completed successfully."
                    },
                    "metadata": {}
                },
                {
                    "output_type": "display_data",
                    "data": {
                        "text/html": "Total execution time: 00:00:00.022"
                    },
                    "metadata": {}
                }
            ],
            "execution_count": 4
        },
        {
            "cell_type": "code",
            "source": [
                "CREATE TABLE MealTagsForbidden (\r\n",
                "    MealID int FOREIGN KEY REFERENCES Meals(MealID),\r\n",
                "    ForbiddenTag varchar(255) NOT NULL\r\n",
                ");"
            ],
            "metadata": {
                "language": "sql",
                "azdata_cell_guid": "c0b094b5-f392-4716-898a-49ea6209b6b5"
            },
            "outputs": [
                {
                    "output_type": "display_data",
                    "data": {
                        "text/html": "Commands completed successfully."
                    },
                    "metadata": {}
                },
                {
                    "output_type": "display_data",
                    "data": {
                        "text/html": "Total execution time: 00:00:00.021"
                    },
                    "metadata": {}
                }
            ],
            "execution_count": 5
        },
        {
            "cell_type": "code",
            "source": [
                "CREATE TABLE MealMenus (\r\n",
                "    DayIndex int FOREIGN KEY REFERENCES Days(DayIndex),\r\n",
                "    MealID int FOREIGN KEY REFERENCES Meals(MealID)\r\n",
                ");"
            ],
            "metadata": {
                "language": "sql",
                "azdata_cell_guid": "953c39f3-599e-4f37-bb54-3eb6acfc6e23"
            },
            "outputs": [
                {
                    "output_type": "display_data",
                    "data": {
                        "text/html": "Commands completed successfully."
                    },
                    "metadata": {}
                },
                {
                    "output_type": "display_data",
                    "data": {
                        "text/html": "Total execution time: 00:00:00.021"
                    },
                    "metadata": {}
                }
            ],
            "execution_count": 6
        },
        {
            "cell_type": "code",
            "source": [
                "CREATE TABLE Drinks (\r\n",
                "    DrinkID int PRIMARY KEY,\r\n",
                "    DrinkName varchar(255) NOT NULL,\r\n",
                "    Cost int NOT NULL,\r\n",
                "    Lv int NOT NULL\r\n",
                ");"
            ],
            "metadata": {
                "language": "sql",
                "azdata_cell_guid": "46a15094-2e69-44a8-a9aa-c7fdc7e98f58"
            },
            "outputs": [
                {
                    "output_type": "display_data",
                    "data": {
                        "text/html": "Commands completed successfully."
                    },
                    "metadata": {}
                },
                {
                    "output_type": "display_data",
                    "data": {
                        "text/html": "Total execution time: 00:00:00.021"
                    },
                    "metadata": {}
                }
            ],
            "execution_count": 7
        },
        {
            "cell_type": "code",
            "source": [
                "CREATE TABLE DrinkTags (\r\n",
                "    DrinkID int FOREIGN KEY REFERENCES Drinks(DrinkID),\r\n",
                "    DrinkTag varchar(255) NOT NULL\r\n",
                ");"
            ],
            "metadata": {
                "language": "sql",
                "azdata_cell_guid": "1a7b69b9-1ac8-4fd0-8404-c82512bdca1e"
            },
            "outputs": [
                {
                    "output_type": "display_data",
                    "data": {
                        "text/html": "Commands completed successfully."
                    },
                    "metadata": {}
                },
                {
                    "output_type": "display_data",
                    "data": {
                        "text/html": "Total execution time: 00:00:00.021"
                    },
                    "metadata": {}
                }
            ],
            "execution_count": 8
        },
        {
            "cell_type": "code",
            "source": [
                "CREATE TABLE DrinkMenu (\r\n",
                "    DayIndex int FOREIGN KEY REFERENCES Days(DayIndex),\r\n",
                "    DrinkID int FOREIGN KEY REFERENCES Drinks(DrinkID)\r\n",
                ");"
            ],
            "metadata": {
                "language": "sql",
                "azdata_cell_guid": "4fadb7d8-2ad7-4b1b-98e9-1b7705719ba9"
            },
            "outputs": [
                {
                    "output_type": "display_data",
                    "data": {
                        "text/html": "Commands completed successfully."
                    },
                    "metadata": {}
                },
                {
                    "output_type": "display_data",
                    "data": {
                        "text/html": "Total execution time: 00:00:00.022"
                    },
                    "metadata": {}
                }
            ],
            "execution_count": 9
        }
    ]
}